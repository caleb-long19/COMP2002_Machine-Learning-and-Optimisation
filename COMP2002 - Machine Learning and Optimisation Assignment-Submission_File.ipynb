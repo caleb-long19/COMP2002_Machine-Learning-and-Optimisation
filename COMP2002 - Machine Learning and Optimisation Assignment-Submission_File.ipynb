{
 "cells": [
  {
   "cell_type": "markdown",
   "metadata": {},
   "source": [
    "# COMP2002 - Machine Learning and Optimisation Assignment\n",
    "This template can be used for the weekly coding exercises, and for your coursework."
   ]
  },
  {
   "cell_type": "code",
   "execution_count": 1,
   "metadata": {},
   "outputs": [],
   "source": [
    "# Import packages used in the Python Program\n",
    "import pandas as pandas\n",
    "import matplotlib.pyplot as plt\n",
    "import numpy as np\n",
    "\n",
    "from sklearn.preprocessing import MinMaxScaler\n",
    "from sklearn.ensemble import RandomForestRegressor \n",
    "from sklearn.neural_network import MLPRegressor \n",
    "from sklearn.svm import SVR \n",
    "from sklearn.metrics import mean_absolute_error\n",
    "from sklearn import preprocessing\n",
    "from sklearn.model_selection import cross_val_score\n",
    "from sklearn.model_selection import train_test_split"
   ]
  },
  {
   "cell_type": "code",
   "execution_count": null,
   "metadata": {},
   "outputs": [],
   "source": []
  },
  {
   "cell_type": "markdown",
   "metadata": {},
   "source": [
    "# Task 1.1 – Data preparation - Start\n",
    "THE MAX ITERATIONS MAY NEED TO BE INCREASED IN THE Multilayer_Perceptron - I set mine to 6000"
   ]
  },
  {
   "cell_type": "code",
   "execution_count": 2,
   "metadata": {},
   "outputs": [],
   "source": [
    "# Import datasets and Train with AlgerianFF Region 1 and Test with Algerian Region 2\n",
    "AffRegion1Dataset = pandas.read_csv(\"AlgerianFF_Region1.csv\")\n",
    "AffRegion2Dataset = pandas.read_csv(\"AlgerianFF_Region2.csv\")"
   ]
  },
  {
   "cell_type": "code",
   "execution_count": null,
   "metadata": {},
   "outputs": [],
   "source": []
  },
  {
   "cell_type": "code",
   "execution_count": 3,
   "metadata": {},
   "outputs": [
    {
     "data": {
      "text/html": [
       "<div>\n",
       "<style scoped>\n",
       "    .dataframe tbody tr th:only-of-type {\n",
       "        vertical-align: middle;\n",
       "    }\n",
       "\n",
       "    .dataframe tbody tr th {\n",
       "        vertical-align: top;\n",
       "    }\n",
       "\n",
       "    .dataframe thead th {\n",
       "        text-align: right;\n",
       "    }\n",
       "</style>\n",
       "<table border=\"1\" class=\"dataframe\">\n",
       "  <thead>\n",
       "    <tr style=\"text-align: right;\">\n",
       "      <th></th>\n",
       "      <th>day</th>\n",
       "      <th>month</th>\n",
       "      <th>year</th>\n",
       "      <th>Temperature</th>\n",
       "      <th>RH</th>\n",
       "      <th>Ws</th>\n",
       "      <th>Rain</th>\n",
       "      <th>FFMC</th>\n",
       "      <th>DMC</th>\n",
       "      <th>DC</th>\n",
       "      <th>ISI</th>\n",
       "      <th>BUI</th>\n",
       "      <th>FWI</th>\n",
       "    </tr>\n",
       "  </thead>\n",
       "  <tbody>\n",
       "    <tr>\n",
       "      <th>0</th>\n",
       "      <td>1</td>\n",
       "      <td>6</td>\n",
       "      <td>2012</td>\n",
       "      <td>29</td>\n",
       "      <td>57</td>\n",
       "      <td>18</td>\n",
       "      <td>0.0</td>\n",
       "      <td>65.7</td>\n",
       "      <td>3.4</td>\n",
       "      <td>7.6</td>\n",
       "      <td>1.3</td>\n",
       "      <td>3.4</td>\n",
       "      <td>0.5</td>\n",
       "    </tr>\n",
       "    <tr>\n",
       "      <th>1</th>\n",
       "      <td>2</td>\n",
       "      <td>6</td>\n",
       "      <td>2012</td>\n",
       "      <td>29</td>\n",
       "      <td>61</td>\n",
       "      <td>13</td>\n",
       "      <td>1.3</td>\n",
       "      <td>64.4</td>\n",
       "      <td>4.1</td>\n",
       "      <td>7.6</td>\n",
       "      <td>1.0</td>\n",
       "      <td>3.9</td>\n",
       "      <td>0.4</td>\n",
       "    </tr>\n",
       "    <tr>\n",
       "      <th>2</th>\n",
       "      <td>3</td>\n",
       "      <td>6</td>\n",
       "      <td>2012</td>\n",
       "      <td>26</td>\n",
       "      <td>82</td>\n",
       "      <td>22</td>\n",
       "      <td>13.1</td>\n",
       "      <td>47.1</td>\n",
       "      <td>2.5</td>\n",
       "      <td>7.1</td>\n",
       "      <td>0.3</td>\n",
       "      <td>2.7</td>\n",
       "      <td>0.1</td>\n",
       "    </tr>\n",
       "    <tr>\n",
       "      <th>3</th>\n",
       "      <td>4</td>\n",
       "      <td>6</td>\n",
       "      <td>2012</td>\n",
       "      <td>25</td>\n",
       "      <td>89</td>\n",
       "      <td>13</td>\n",
       "      <td>2.5</td>\n",
       "      <td>28.6</td>\n",
       "      <td>1.3</td>\n",
       "      <td>6.9</td>\n",
       "      <td>0.0</td>\n",
       "      <td>1.7</td>\n",
       "      <td>0.0</td>\n",
       "    </tr>\n",
       "    <tr>\n",
       "      <th>4</th>\n",
       "      <td>5</td>\n",
       "      <td>6</td>\n",
       "      <td>2012</td>\n",
       "      <td>27</td>\n",
       "      <td>77</td>\n",
       "      <td>16</td>\n",
       "      <td>0.0</td>\n",
       "      <td>64.8</td>\n",
       "      <td>3.0</td>\n",
       "      <td>14.2</td>\n",
       "      <td>1.2</td>\n",
       "      <td>3.9</td>\n",
       "      <td>0.5</td>\n",
       "    </tr>\n",
       "    <tr>\n",
       "      <th>...</th>\n",
       "      <td>...</td>\n",
       "      <td>...</td>\n",
       "      <td>...</td>\n",
       "      <td>...</td>\n",
       "      <td>...</td>\n",
       "      <td>...</td>\n",
       "      <td>...</td>\n",
       "      <td>...</td>\n",
       "      <td>...</td>\n",
       "      <td>...</td>\n",
       "      <td>...</td>\n",
       "      <td>...</td>\n",
       "      <td>...</td>\n",
       "    </tr>\n",
       "    <tr>\n",
       "      <th>117</th>\n",
       "      <td>26</td>\n",
       "      <td>9</td>\n",
       "      <td>2012</td>\n",
       "      <td>31</td>\n",
       "      <td>54</td>\n",
       "      <td>11</td>\n",
       "      <td>0.0</td>\n",
       "      <td>82.0</td>\n",
       "      <td>6.0</td>\n",
       "      <td>16.3</td>\n",
       "      <td>2.5</td>\n",
       "      <td>6.2</td>\n",
       "      <td>1.7</td>\n",
       "    </tr>\n",
       "    <tr>\n",
       "      <th>118</th>\n",
       "      <td>27</td>\n",
       "      <td>9</td>\n",
       "      <td>2012</td>\n",
       "      <td>31</td>\n",
       "      <td>66</td>\n",
       "      <td>11</td>\n",
       "      <td>0.0</td>\n",
       "      <td>85.7</td>\n",
       "      <td>8.3</td>\n",
       "      <td>24.9</td>\n",
       "      <td>4.0</td>\n",
       "      <td>9.0</td>\n",
       "      <td>4.1</td>\n",
       "    </tr>\n",
       "    <tr>\n",
       "      <th>119</th>\n",
       "      <td>28</td>\n",
       "      <td>9</td>\n",
       "      <td>2012</td>\n",
       "      <td>32</td>\n",
       "      <td>47</td>\n",
       "      <td>14</td>\n",
       "      <td>0.7</td>\n",
       "      <td>77.5</td>\n",
       "      <td>7.1</td>\n",
       "      <td>8.8</td>\n",
       "      <td>1.8</td>\n",
       "      <td>6.8</td>\n",
       "      <td>0.9</td>\n",
       "    </tr>\n",
       "    <tr>\n",
       "      <th>120</th>\n",
       "      <td>29</td>\n",
       "      <td>9</td>\n",
       "      <td>2012</td>\n",
       "      <td>26</td>\n",
       "      <td>80</td>\n",
       "      <td>16</td>\n",
       "      <td>1.8</td>\n",
       "      <td>47.4</td>\n",
       "      <td>2.9</td>\n",
       "      <td>7.7</td>\n",
       "      <td>0.3</td>\n",
       "      <td>3.0</td>\n",
       "      <td>0.1</td>\n",
       "    </tr>\n",
       "    <tr>\n",
       "      <th>121</th>\n",
       "      <td>30</td>\n",
       "      <td>9</td>\n",
       "      <td>2012</td>\n",
       "      <td>25</td>\n",
       "      <td>78</td>\n",
       "      <td>14</td>\n",
       "      <td>1.4</td>\n",
       "      <td>45.0</td>\n",
       "      <td>1.9</td>\n",
       "      <td>7.5</td>\n",
       "      <td>0.2</td>\n",
       "      <td>2.4</td>\n",
       "      <td>0.1</td>\n",
       "    </tr>\n",
       "  </tbody>\n",
       "</table>\n",
       "<p>122 rows × 13 columns</p>\n",
       "</div>"
      ],
      "text/plain": [
       "     day  month  year  Temperature   RH   Ws  Rain   FFMC  DMC    DC  ISI  \\\n",
       "0      1      6  2012           29   57   18    0.0  65.7  3.4   7.6  1.3   \n",
       "1      2      6  2012           29   61   13    1.3  64.4  4.1   7.6  1.0   \n",
       "2      3      6  2012           26   82   22   13.1  47.1  2.5   7.1  0.3   \n",
       "3      4      6  2012           25   89   13    2.5  28.6  1.3   6.9  0.0   \n",
       "4      5      6  2012           27   77   16    0.0  64.8  3.0  14.2  1.2   \n",
       "..   ...    ...   ...          ...  ...  ...    ...   ...  ...   ...  ...   \n",
       "117   26      9  2012           31   54   11    0.0  82.0  6.0  16.3  2.5   \n",
       "118   27      9  2012           31   66   11    0.0  85.7  8.3  24.9  4.0   \n",
       "119   28      9  2012           32   47   14    0.7  77.5  7.1   8.8  1.8   \n",
       "120   29      9  2012           26   80   16    1.8  47.4  2.9   7.7  0.3   \n",
       "121   30      9  2012           25   78   14    1.4  45.0  1.9   7.5  0.2   \n",
       "\n",
       "     BUI  FWI  \n",
       "0    3.4  0.5  \n",
       "1    3.9  0.4  \n",
       "2    2.7  0.1  \n",
       "3    1.7  0.0  \n",
       "4    3.9  0.5  \n",
       "..   ...  ...  \n",
       "117  6.2  1.7  \n",
       "118  9.0  4.1  \n",
       "119  6.8  0.9  \n",
       "120  3.0  0.1  \n",
       "121  2.4  0.1  \n",
       "\n",
       "[122 rows x 13 columns]"
      ]
     },
     "execution_count": 3,
     "metadata": {},
     "output_type": "execute_result"
    }
   ],
   "source": [
    "# Display the contents of the Region 1 Dataset\n",
    "AffRegion1Dataset"
   ]
  },
  {
   "cell_type": "code",
   "execution_count": 4,
   "metadata": {},
   "outputs": [
    {
     "data": {
      "text/html": [
       "<div>\n",
       "<style scoped>\n",
       "    .dataframe tbody tr th:only-of-type {\n",
       "        vertical-align: middle;\n",
       "    }\n",
       "\n",
       "    .dataframe tbody tr th {\n",
       "        vertical-align: top;\n",
       "    }\n",
       "\n",
       "    .dataframe thead th {\n",
       "        text-align: right;\n",
       "    }\n",
       "</style>\n",
       "<table border=\"1\" class=\"dataframe\">\n",
       "  <thead>\n",
       "    <tr style=\"text-align: right;\">\n",
       "      <th></th>\n",
       "      <th>day</th>\n",
       "      <th>month</th>\n",
       "      <th>year</th>\n",
       "      <th>Temperature</th>\n",
       "      <th>RH</th>\n",
       "      <th>Ws</th>\n",
       "      <th>Rain</th>\n",
       "      <th>FFMC</th>\n",
       "      <th>DMC</th>\n",
       "      <th>DC</th>\n",
       "      <th>ISI</th>\n",
       "      <th>BUI</th>\n",
       "      <th>FWI</th>\n",
       "    </tr>\n",
       "  </thead>\n",
       "  <tbody>\n",
       "    <tr>\n",
       "      <th>0</th>\n",
       "      <td>1</td>\n",
       "      <td>6</td>\n",
       "      <td>2012</td>\n",
       "      <td>32</td>\n",
       "      <td>71</td>\n",
       "      <td>12</td>\n",
       "      <td>0.7</td>\n",
       "      <td>57.1</td>\n",
       "      <td>2.5</td>\n",
       "      <td>8.2</td>\n",
       "      <td>0.6</td>\n",
       "      <td>2.8</td>\n",
       "      <td>0.2</td>\n",
       "    </tr>\n",
       "    <tr>\n",
       "      <th>1</th>\n",
       "      <td>2</td>\n",
       "      <td>6</td>\n",
       "      <td>2012</td>\n",
       "      <td>30</td>\n",
       "      <td>73</td>\n",
       "      <td>13</td>\n",
       "      <td>4.0</td>\n",
       "      <td>55.7</td>\n",
       "      <td>2.7</td>\n",
       "      <td>7.8</td>\n",
       "      <td>0.6</td>\n",
       "      <td>2.9</td>\n",
       "      <td>0.2</td>\n",
       "    </tr>\n",
       "    <tr>\n",
       "      <th>2</th>\n",
       "      <td>3</td>\n",
       "      <td>6</td>\n",
       "      <td>2012</td>\n",
       "      <td>29</td>\n",
       "      <td>80</td>\n",
       "      <td>14</td>\n",
       "      <td>2.0</td>\n",
       "      <td>48.7</td>\n",
       "      <td>2.2</td>\n",
       "      <td>7.6</td>\n",
       "      <td>0.3</td>\n",
       "      <td>2.6</td>\n",
       "      <td>0.1</td>\n",
       "    </tr>\n",
       "    <tr>\n",
       "      <th>3</th>\n",
       "      <td>4</td>\n",
       "      <td>6</td>\n",
       "      <td>2012</td>\n",
       "      <td>30</td>\n",
       "      <td>64</td>\n",
       "      <td>14</td>\n",
       "      <td>0.0</td>\n",
       "      <td>79.4</td>\n",
       "      <td>5.2</td>\n",
       "      <td>15.4</td>\n",
       "      <td>2.2</td>\n",
       "      <td>5.6</td>\n",
       "      <td>1.0</td>\n",
       "    </tr>\n",
       "    <tr>\n",
       "      <th>4</th>\n",
       "      <td>5</td>\n",
       "      <td>6</td>\n",
       "      <td>2012</td>\n",
       "      <td>32</td>\n",
       "      <td>60</td>\n",
       "      <td>14</td>\n",
       "      <td>0.2</td>\n",
       "      <td>77.1</td>\n",
       "      <td>6.0</td>\n",
       "      <td>17.6</td>\n",
       "      <td>1.8</td>\n",
       "      <td>6.5</td>\n",
       "      <td>0.9</td>\n",
       "    </tr>\n",
       "    <tr>\n",
       "      <th>...</th>\n",
       "      <td>...</td>\n",
       "      <td>...</td>\n",
       "      <td>...</td>\n",
       "      <td>...</td>\n",
       "      <td>...</td>\n",
       "      <td>...</td>\n",
       "      <td>...</td>\n",
       "      <td>...</td>\n",
       "      <td>...</td>\n",
       "      <td>...</td>\n",
       "      <td>...</td>\n",
       "      <td>...</td>\n",
       "      <td>...</td>\n",
       "    </tr>\n",
       "    <tr>\n",
       "      <th>117</th>\n",
       "      <td>26</td>\n",
       "      <td>9</td>\n",
       "      <td>2012</td>\n",
       "      <td>30</td>\n",
       "      <td>65</td>\n",
       "      <td>14</td>\n",
       "      <td>0.0</td>\n",
       "      <td>85.4</td>\n",
       "      <td>16.0</td>\n",
       "      <td>44.5</td>\n",
       "      <td>4.5</td>\n",
       "      <td>16.9</td>\n",
       "      <td>6.5</td>\n",
       "    </tr>\n",
       "    <tr>\n",
       "      <th>118</th>\n",
       "      <td>27</td>\n",
       "      <td>9</td>\n",
       "      <td>2012</td>\n",
       "      <td>28</td>\n",
       "      <td>87</td>\n",
       "      <td>15</td>\n",
       "      <td>4.4</td>\n",
       "      <td>41.1</td>\n",
       "      <td>6.5</td>\n",
       "      <td>8.0</td>\n",
       "      <td>0.1</td>\n",
       "      <td>6.2</td>\n",
       "      <td>0.0</td>\n",
       "    </tr>\n",
       "    <tr>\n",
       "      <th>119</th>\n",
       "      <td>28</td>\n",
       "      <td>9</td>\n",
       "      <td>2012</td>\n",
       "      <td>27</td>\n",
       "      <td>87</td>\n",
       "      <td>29</td>\n",
       "      <td>0.5</td>\n",
       "      <td>45.9</td>\n",
       "      <td>3.5</td>\n",
       "      <td>7.9</td>\n",
       "      <td>0.4</td>\n",
       "      <td>3.4</td>\n",
       "      <td>0.2</td>\n",
       "    </tr>\n",
       "    <tr>\n",
       "      <th>120</th>\n",
       "      <td>29</td>\n",
       "      <td>9</td>\n",
       "      <td>2012</td>\n",
       "      <td>24</td>\n",
       "      <td>54</td>\n",
       "      <td>18</td>\n",
       "      <td>0.1</td>\n",
       "      <td>79.7</td>\n",
       "      <td>4.3</td>\n",
       "      <td>15.2</td>\n",
       "      <td>1.7</td>\n",
       "      <td>5.1</td>\n",
       "      <td>0.7</td>\n",
       "    </tr>\n",
       "    <tr>\n",
       "      <th>121</th>\n",
       "      <td>30</td>\n",
       "      <td>9</td>\n",
       "      <td>2012</td>\n",
       "      <td>24</td>\n",
       "      <td>64</td>\n",
       "      <td>15</td>\n",
       "      <td>0.2</td>\n",
       "      <td>67.3</td>\n",
       "      <td>3.8</td>\n",
       "      <td>16.5</td>\n",
       "      <td>1.2</td>\n",
       "      <td>4.8</td>\n",
       "      <td>0.5</td>\n",
       "    </tr>\n",
       "  </tbody>\n",
       "</table>\n",
       "<p>122 rows × 13 columns</p>\n",
       "</div>"
      ],
      "text/plain": [
       "     day  month  year  Temperature   RH   Ws  Rain   FFMC   DMC    DC  ISI  \\\n",
       "0      1      6  2012           32   71   12    0.7  57.1   2.5   8.2  0.6   \n",
       "1      2      6  2012           30   73   13    4.0  55.7   2.7   7.8  0.6   \n",
       "2      3      6  2012           29   80   14    2.0  48.7   2.2   7.6  0.3   \n",
       "3      4      6  2012           30   64   14    0.0  79.4   5.2  15.4  2.2   \n",
       "4      5      6  2012           32   60   14    0.2  77.1   6.0  17.6  1.8   \n",
       "..   ...    ...   ...          ...  ...  ...    ...   ...   ...   ...  ...   \n",
       "117   26      9  2012           30   65   14    0.0  85.4  16.0  44.5  4.5   \n",
       "118   27      9  2012           28   87   15    4.4  41.1   6.5   8.0  0.1   \n",
       "119   28      9  2012           27   87   29    0.5  45.9   3.5   7.9  0.4   \n",
       "120   29      9  2012           24   54   18    0.1  79.7   4.3  15.2  1.7   \n",
       "121   30      9  2012           24   64   15    0.2  67.3   3.8  16.5  1.2   \n",
       "\n",
       "      BUI  FWI  \n",
       "0     2.8  0.2  \n",
       "1     2.9  0.2  \n",
       "2     2.6  0.1  \n",
       "3     5.6  1.0  \n",
       "4     6.5  0.9  \n",
       "..    ...  ...  \n",
       "117  16.9  6.5  \n",
       "118   6.2  0.0  \n",
       "119   3.4  0.2  \n",
       "120   5.1  0.7  \n",
       "121   4.8  0.5  \n",
       "\n",
       "[122 rows x 13 columns]"
      ]
     },
     "execution_count": 4,
     "metadata": {},
     "output_type": "execute_result"
    }
   ],
   "source": [
    "# Display the contents of the Region 2 Dataset\n",
    "AffRegion2Dataset"
   ]
  },
  {
   "cell_type": "code",
   "execution_count": 5,
   "metadata": {},
   "outputs": [],
   "source": [
    "# Retrieve and seperate inputs/targets from datasets\n",
    "inputs_DatasetRegion1 = AffRegion1Dataset[['day', 'month', 'year', 'Temperature', ' RH', ' Ws', 'Rain ', 'FFMC', 'DMC', 'DC', 'ISI', 'BUI']]\n",
    "targets_DatasetRegion1 = AffRegion1Dataset[['FWI']]\n",
    "\n",
    "inputs_testRegion2 = AffRegion2Dataset[['day', 'month', 'year', 'Temperature', ' RH', ' Ws', 'Rain ', 'FFMC', 'DMC', 'DC', 'ISI', 'BUI']]\n",
    "targets_testRegion2Data = AffRegion2Dataset[['FWI']]"
   ]
  },
  {
   "cell_type": "code",
   "execution_count": null,
   "metadata": {},
   "outputs": [],
   "source": []
  },
  {
   "cell_type": "code",
   "execution_count": 6,
   "metadata": {},
   "outputs": [],
   "source": [
    "# Normalisze the data set inputs\n",
    "scaler = MinMaxScaler()\n",
    "trainingData = scaler.fit_transform(inputs_DatasetRegion1)\n",
    "testingData = scaler.fit_transform(inputs_testRegion2)"
   ]
  },
  {
   "cell_type": "markdown",
   "metadata": {},
   "source": [
    "# Task 1.1 – Data preparation - End"
   ]
  },
  {
   "cell_type": "code",
   "execution_count": null,
   "metadata": {},
   "outputs": [],
   "source": []
  },
  {
   "cell_type": "markdown",
   "metadata": {},
   "source": [
    "# Task 1.2 – Regression - Start"
   ]
  },
  {
   "cell_type": "code",
   "execution_count": 7,
   "metadata": {},
   "outputs": [
    {
     "name": "stdout",
     "output_type": "stream",
     "text": [
      "Testing Predction Output :  [ 0.13   0.1    0.019  0.678  0.552  1.119  3.639  0.433  0.721  6.693\n",
      " 11.1    8.374  0.954  0.085  0.368  0.019  0.243  0.27   0.253  0.212\n",
      "  2.429  0.624  0.47   2.92   4.147  6.411  8.378 12.595  3.865  1.52\n",
      "  0.282  4.998  2.198  6.566 10.214  3.546  3.123  1.272  1.089  0.626\n",
      "  0.473  6.87   3.017  6.793  9.255  3.568  3.763  5.321 10.576 11.264\n",
      " 18.588 16.607 11.095  2.5    1.22   1.172  1.684  6.246  7.884 10.357\n",
      " 11.411  0.596 10.568 11.749 13.575 14.047  0.882  0.405  3.464  7.779\n",
      "  7.272 13.32  11.894  7.196 10.266  3.688 10.758 17.021 17.261  5.105\n",
      "  5.594  6.571 12.758 16.016 17.413 17.571 18.547 15.453  4.722  4.131\n",
      " 11.864 13.164  0.05   0.526  1.117  0.456  0.3    0.265  1.58   1.114\n",
      "  1.722  0.235  0.691  1.963  7.182  2.919  6.614 12.403 11.752 10.871\n",
      "  4.627  3.817 14.799 10.618 11.667  0.912  1.584  3.674  0.019  0.036\n",
      "  0.602  0.366]\n",
      "MAE:  2.9279999999999995\n"
     ]
    }
   ],
   "source": [
    "# Random Forest Regression Method\n",
    "RandomF_Regressor = RandomForestRegressor()\n",
    "RandomF_Regressor.fit(trainingData, targets_DatasetRegion1.values.ravel())\n",
    "RandonF_outputs = RandomF_Regressor.predict(testingData)\n",
    "print(\"Testing Predction Output : \", RandonF_outputs)\n",
    "\n",
    "RandonForest_MAE = (mean_absolute_error(targets_testRegion2Data, RandonF_outputs))\n",
    "print(\"MAE: \", RandonForest_MAE)"
   ]
  },
  {
   "cell_type": "code",
   "execution_count": 8,
   "metadata": {},
   "outputs": [],
   "source": [
    "# Cross Validation Score for Random Forest\n",
    "RandomF_CVS = cross_val_score(RandomF_Regressor, testingData, targets_testRegion2Data.values.ravel() , cv=3)"
   ]
  },
  {
   "cell_type": "code",
   "execution_count": null,
   "metadata": {},
   "outputs": [],
   "source": []
  },
  {
   "cell_type": "code",
   "execution_count": 9,
   "metadata": {},
   "outputs": [
    {
     "name": "stdout",
     "output_type": "stream",
     "text": [
      "Testing Predction Output :  [ 2.26251872e-02 -1.21474154e-02  5.30539295e-03  2.14574584e-01\n",
      "  1.95049087e-01  1.54121707e+00  3.91633584e+00  4.56012272e-01\n",
      "  8.85841007e-01  7.06889492e+00  1.24918449e+01  8.73728287e+00\n",
      "  1.00297429e+00  1.21314284e-01  9.97736527e-03 -1.05032727e-01\n",
      " -2.46848669e-02 -2.48566409e-01 -8.89542472e-02 -1.62816732e-01\n",
      "  2.93940524e+00  3.82436975e-01  2.17009385e-01  3.28936502e+00\n",
      "  4.32371440e+00  6.60141961e+00  8.47348793e+00  1.31955335e+01\n",
      "  4.83827633e+00  1.26905134e+00  1.04721925e-01  4.52356769e+00\n",
      "  3.29543082e+00  7.08050132e+00  1.11594360e+01  4.26083491e+00\n",
      "  3.38376683e+00  1.92751534e+00  1.68705753e+00  7.66408306e-01\n",
      "  4.02592427e-01  6.72286122e+00  2.74807730e+00  7.45943519e+00\n",
      "  1.03615439e+01  4.79969571e+00  5.16409298e+00  6.42360208e+00\n",
      "  9.35732634e+00  1.26070710e+01  2.19176078e+01  1.80064785e+01\n",
      "  1.20057264e+01  3.01606234e+00  7.88422684e-01  7.13735256e-01\n",
      "  1.45855581e+00  6.16280041e+00  7.62732803e+00  9.35364079e+00\n",
      "  1.03803011e+01 -1.13479167e-01  1.14293444e+01  1.58772171e+01\n",
      "  1.59251642e+01  1.84467055e+01  1.32577363e+00  5.85119153e-01\n",
      "  3.68782255e+00  8.77059376e+00  7.49223939e+00  1.67513480e+01\n",
      "  1.48776007e+01  7.26663062e+00  1.13883684e+01  3.78028661e+00\n",
      "  1.04185075e+01  1.76945266e+01  1.93960194e+01  6.66145633e+00\n",
      "  7.39929794e+00  9.27309109e+00  1.31787615e+01  1.77203236e+01\n",
      "  1.93876704e+01  2.22450347e+01  2.19627370e+01  1.96189750e+01\n",
      "  5.63631239e+00  4.28605678e+00  1.03595480e+01  1.23285217e+01\n",
      "  5.18689691e-01  6.42662353e-02  1.22095848e+00  1.12626733e-01\n",
      "  1.81669167e-01  2.89835153e-01  1.78737646e+00  1.29750180e+00\n",
      "  2.06131225e+00  5.47148267e-01  5.19376441e-01  2.26377021e+00\n",
      "  7.62129218e+00  3.52854299e+00  6.66617388e+00  1.43879441e+01\n",
      "  1.24587185e+01  1.08592437e+01  4.70444904e+00  3.20072702e+00\n",
      "  1.54772520e+01  9.17597902e+00  1.03728564e+01  1.50869797e+00\n",
      "  1.94046232e+00  4.19834886e+00  7.46904877e-01 -3.01718976e-01\n",
      " -6.56331577e-01 -3.02721640e-01]\n",
      "MAE:  2.5423843249194964\n"
     ]
    }
   ],
   "source": [
    "# Random MLP Regressor Method\n",
    "MLP_Regressor = MLPRegressor()\n",
    "MLP_Regressor.fit(trainingData, targets_DatasetRegion1.values.ravel()) #2000 iterations\n",
    "MLP_Outputs = MLP_Regressor.predict(testingData)\n",
    "print(\"Testing Predction Output : \", MLP_Outputs)\n",
    "\n",
    "MLP_MAE = (mean_absolute_error(targets_testRegion2Data, MLP_Outputs))\n",
    "print(\"MAE: \", MLP_MAE)"
   ]
  },
  {
   "cell_type": "code",
   "execution_count": 10,
   "metadata": {},
   "outputs": [],
   "source": [
    "# Cross Validation Score for Neural Network\n",
    "MLP_CVS = cross_val_score(MLP_Regressor, testingData, targets_testRegion2Data.values.ravel(), cv=3)"
   ]
  },
  {
   "cell_type": "code",
   "execution_count": null,
   "metadata": {},
   "outputs": [],
   "source": []
  },
  {
   "cell_type": "code",
   "execution_count": 11,
   "metadata": {},
   "outputs": [
    {
     "name": "stdout",
     "output_type": "stream",
     "text": [
      "Testing Predction Output :  [ 0.15963237  0.2598914   0.06508475  1.10100738  0.87978232  2.26388261\n",
      "  3.91650291  0.69002319  1.35752875  5.55534297  8.616087    6.11876808\n",
      "  0.66787465 -0.14308647  0.3341755  -0.07220238  0.17966437  2.11035672\n",
      "  0.22147402 -0.20608429  3.16033659  1.45868619  0.86819886  3.40069402\n",
      "  4.00932126  6.1518285   7.93028688 11.76678665  6.04545772  2.78716522\n",
      " -0.05607797  3.7302151   2.78396416  5.42181757  8.68395697  4.01007104\n",
      "  3.61724815  2.02080097  1.71415624  0.52111053 -0.12802195  6.09146574\n",
      "  3.12906786  6.69992188  8.57420675  3.40991893  4.00823668  5.62272004\n",
      "  8.75806181 12.24783161 16.26545892 14.58372256 10.66396863  2.45967314\n",
      "  1.28588549  1.24753707  1.74856502  5.60547797  7.09580547  9.17798052\n",
      " 10.52515505  0.91999843  8.48515594 10.79431867 11.64157234 11.96018428\n",
      " -0.19288342 -0.54535555  3.31266682  7.94315107  7.05834212 13.16980214\n",
      " 11.7166583   6.76330653 10.82207484  3.92238025 10.80819871 14.84134368\n",
      " 16.46173874  7.7168053   8.28612977 10.39857608 14.06235518 16.13576341\n",
      " 16.0670383  15.68654912 14.75968653 14.12381348  8.56993167  7.4754333\n",
      " 11.77964    11.27129688  1.26129645  0.94516285  1.5485128   0.41939896\n",
      " -0.02232067  0.75419403  1.45230089  1.57124598  1.78187974 -0.4424318\n",
      "  0.57867584  1.70881591  5.11448982  2.61116472  5.4473996  10.89581149\n",
      " 10.51422297 10.25273418  5.21742581  4.15907894 12.89183178  9.11802919\n",
      " 10.77786898  0.87302201  1.8184276   3.59897594  0.85229194  2.00650424\n",
      "  1.38494026  0.87102755]\n",
      "MAE:  3.265285328447862\n"
     ]
    }
   ],
   "source": [
    "# Random Support Vector Machine Method\n",
    "SVR_Regressor = SVR()\n",
    "SVR_Regressor.fit(trainingData, targets_DatasetRegion1.values.ravel())\n",
    "SVR_Outputs = SVR_Regressor.predict(testingData)\n",
    "print(\"Testing Predction Output : \", SVR_Outputs)\n",
    "\n",
    "SVR_MAE = (mean_absolute_error(targets_testRegion2Data, SVR_Outputs))\n",
    "print(\"MAE: \", SVR_MAE)"
   ]
  },
  {
   "cell_type": "code",
   "execution_count": 12,
   "metadata": {},
   "outputs": [],
   "source": [
    "# Cross Validation Score for Support Vector Machine\n",
    "SVR_CVS = cross_val_score(SVR_Regressor, testingData, targets_testRegion2Data.values.ravel() , cv=3)"
   ]
  },
  {
   "cell_type": "markdown",
   "metadata": {},
   "source": [
    "# Task 1.2 – Regression - End"
   ]
  },
  {
   "cell_type": "code",
   "execution_count": null,
   "metadata": {},
   "outputs": [],
   "source": []
  },
  {
   "cell_type": "markdown",
   "metadata": {},
   "source": [
    "# Task 1.3 - Assessment of Regression - Start"
   ]
  },
  {
   "cell_type": "code",
   "execution_count": 13,
   "metadata": {},
   "outputs": [
    {
     "data": {
      "image/png": "[encoded data removed]",
      "text/plain": [
       "<Figure size 432x288 with 1 Axes>"
      ]
     },
     "metadata": {
      "needs_background": "light"
     },
     "output_type": "display_data"
    }
   ],
   "source": [
    "# Inert the Cross Validation Scores of all regressor models into Boxplot to display the MAE Rates\n",
    "data = [RandomF_CVS, MLP_CVS, SVR_CVS]\n",
    "\n",
    "# Creating plot\n",
    "plt.boxplot(data)\n",
    "  \n",
    "# Adding title \n",
    "plt.title(\"Cross Validation of MAE Rates\")\n",
    "\n",
    "plt.xticks([1, 2, 3], ['Random Forest', 'Neural Network', 'Support Vector Machine'])\n",
    "plt.xlabel('Regressor Models')\n",
    "plt.ylabel('MAE Rate')\n",
    "\n",
    "    \n",
    "# show plot\n",
    "plt.show()"
   ]
  },
  {
   "cell_type": "markdown",
   "metadata": {},
   "source": [
    "# Task 1.3 - Assessment of Regression - End"
   ]
  },
  {
   "cell_type": "code",
   "execution_count": null,
   "metadata": {},
   "outputs": [],
   "source": []
  },
  {
   "cell_type": "markdown",
   "metadata": {},
   "source": [
    "# Part 2 Evolutionary Computation"
   ]
  },
  {
   "cell_type": "code",
   "execution_count": 14,
   "metadata": {},
   "outputs": [],
   "source": [
    "# The fitness is the sum of the routes taken (Total distance)\n",
    "\n",
    "# Import Necessary packages for code to function\n",
    "import pandas as pandas\n",
    "import numpy as np\n",
    "import random\n",
    "\n",
    "\n",
    "# Import the distances/city files to be used in the functions and to call the functions\n",
    "\n",
    "# Change the datasets to short to view the name_short_corrected distances\n",
    "citiesData = pandas.read_csv(\"cities.txt\", header=None);\n",
    "routedata = pandas.read_csv(\"distances.csv\", header=None);"
   ]
  },
  {
   "cell_type": "code",
   "execution_count": null,
   "metadata": {},
   "outputs": [],
   "source": []
  },
  {
   "cell_type": "markdown",
   "metadata": {},
   "source": [
    "# Generation of random solutions -  Part 2.1 - Start"
   ]
  },
  {
   "cell_type": "code",
   "execution_count": 15,
   "metadata": {},
   "outputs": [],
   "source": [
    "# Create a randomly generated solution of cities from the city dataset\n",
    "def RandomSolutionCity(randomRoute):\n",
    "\n",
    "    citiesData = list(range(len(randomRoute)))\n",
    "    cityRoute = []\n",
    "\n",
    "    for i in range(len(randomRoute)):\n",
    "\n",
    "        randomCity = citiesData[random.randint(0, len(citiesData) - 1)]\n",
    "        cityRoute.append(randomCity)\n",
    "        citiesData.remove(randomCity)\n",
    "\n",
    "    return cityRoute\n",
    "\n",
    "\n",
    "\n",
    "# Get the total fitness distance of a salesmans route - fitness function\n",
    "def CaculateDistance(tsp, solution):\n",
    "\n",
    "    # Calculate the fitness and return it.\n",
    "    CaculateDistance=0\n",
    "    for i in range(1, len(solution)):\n",
    "\n",
    "        CaculateDistance += tsp[solution[i - 1]][solution[i]]\n",
    "\n",
    "    return CaculateDistance"
   ]
  },
  {
   "cell_type": "code",
   "execution_count": 16,
   "metadata": {},
   "outputs": [
    {
     "data": {
      "text/plain": [
       "5446.9"
      ]
     },
     "execution_count": 16,
     "metadata": {},
     "output_type": "execute_result"
    }
   ],
   "source": [
    "# Test calculation with a random solution\n",
    "CaculateDistance(routedata, RandomSolutionCity(citiesData))"
   ]
  },
  {
   "cell_type": "code",
   "execution_count": 17,
   "metadata": {},
   "outputs": [
    {
     "data": {
      "text/plain": [
       "3857.3999999999996"
      ]
     },
     "execution_count": 17,
     "metadata": {},
     "output_type": "execute_result"
    }
   ],
   "source": [
    "# Test calculation with a chosen solution - value should be 3857.3999999999996\n",
    "CaculateDistance(routedata, [5, 3, 16, 11, 14, 2, 12, 13, 1, 10, 15, 17, 6, 4, 9, 0, 18, 19, 7, 8])"
   ]
  },
  {
   "cell_type": "markdown",
   "metadata": {},
   "source": [
    "# Generation of random solutions - Part 2.1 - End"
   ]
  },
  {
   "cell_type": "code",
   "execution_count": null,
   "metadata": {},
   "outputs": [],
   "source": []
  },
  {
   "cell_type": "markdown",
   "metadata": {},
   "source": [
    "# Algorithm implementation - Part 2.2 - Start"
   ]
  },
  {
   "cell_type": "code",
   "execution_count": 18,
   "metadata": {},
   "outputs": [],
   "source": [
    "from matplotlib import pyplot as plt\n",
    "\n",
    "# Global variables to store the averages of the mutations iterations\n",
    "avgFitnessSwap = []\n",
    "avgFitnessRR = []"
   ]
  },
  {
   "cell_type": "code",
   "execution_count": 19,
   "metadata": {},
   "outputs": [],
   "source": [
    "# Ruin and Recreate randomly generates a new route every iteration\n",
    "def ruinAndRecreateMutation(NumOfItterations, citySolution):\n",
    "\n",
    "    # set the values to 0\n",
    "    bestCityRoute = 0\n",
    "    bestDistance = 0\n",
    "    totalDistance = 0\n",
    "\n",
    "    # create list arrays to store the iteration values\n",
    "    maxFitnessRR = []\n",
    "    minFitnessRR = []\n",
    "    \n",
    "    \n",
    "    print(\"Beginning Ruin and Recreate Mutation...\")\n",
    "    \n",
    "\n",
    "    # Loop through randomly generated route and print out the best route\n",
    "    for i in range(NumOfItterations):\n",
    "\n",
    "        # Call the fitness function with the randomly sorted cities from the city dataset\n",
    "        randomCurrentRoute = RandomSolutionCity(citySolution)\n",
    "        curDistance = CaculateDistance(routedata, RandomSolutionCity(citySolution))\n",
    "\n",
    "        # If our current best distance is larger than the newly found distance, best distance is equal to that current distance\n",
    "        if bestDistance == 0:\n",
    "            bestCityRoute = randomCurrentRoute\n",
    "            bestDistance = curDistance\n",
    "\n",
    "        if bestDistance > curDistance:\n",
    "            bestCityRoute = randomCurrentRoute.copy()\n",
    "            bestDistance = curDistance\n",
    "\n",
    "        # print out the current iteration, current fitness, and best fitness\n",
    "        print(\"Current Iteration: \", i, \" Current Route Distance: \", curDistance, \" Best Distance Overall: \", bestDistance)\n",
    "\n",
    "        # store the values from the current iteration into lists\n",
    "        maxFitnessRR.append(curDistance)\n",
    "        avgFitnessRR.append((curDistance + bestDistance) // 2)\n",
    "        minFitnessRR.append(bestDistance)\n",
    "        \n",
    "        # end of for loop\n",
    "        \n",
    "    \n",
    "        \n",
    "        \n",
    "    # Visualisation of results - Part 2.3 - Start\n",
    "    \n",
    "    # Set the plotting points for the line graphs\n",
    "    plt.title(\"Ruin & Recreate\")\n",
    "\n",
    "    plt.plot(maxFitnessRR, label='Maximum Distance')\n",
    "    plt.plot(avgFitnessRR, label='Average Distance')\n",
    "    plt.plot(minFitnessRR, label='Minimum Distance')\n",
    "    plt.legend()\n",
    "\n",
    "    plt.xlabel('Number of Iterations')\n",
    "    plt.ylabel('Distance')\n",
    "    # Part 2.3 - End\n",
    "    \n",
    "    \n",
    "        \n",
    "    print(\"The Shortest Route Is: \", bestCityRoute, \"The Total Distance Is: \", bestDistance)\n",
    "\n",
    "    return bestCityRoute"
   ]
  },
  {
   "cell_type": "code",
   "execution_count": null,
   "metadata": {},
   "outputs": [],
   "source": []
  },
  {
   "cell_type": "code",
   "execution_count": 20,
   "metadata": {},
   "outputs": [],
   "source": [
    "# Swap function takes two cities and swaps them in the route\n",
    "def swapMutation(NumOfItterations, randomCurrentRoute):\n",
    "\n",
    "    # set the values to 0\n",
    "    bestCityRoute = 0\n",
    "    bestDistance = 0\n",
    "    totalDistance = 0\n",
    "\n",
    "    # create list arrays to store the iteration values\n",
    "    maxFitnessSwap = []\n",
    "    minFitnessSwap = []\n",
    "\n",
    "    \n",
    "    # Call the fitness function with the randomly sorted cities from the city dataset\n",
    "    randomCurrentRoute = RandomSolutionCity(randomCurrentRoute)\n",
    "    idx = range(len(randomCurrentRoute))\n",
    "    \n",
    "    \n",
    "\n",
    "    print(\"Beginning Swap Mutation - Testing Current Route: \", randomCurrentRoute)\n",
    "    \n",
    "    \n",
    "\n",
    "    # Loop through randomly generated route and print out the best route\n",
    "    for i in range(NumOfItterations):\n",
    "\n",
    "        # randomise two city values in the parent route\n",
    "        i1, i2 = random.sample(idx, 2)\n",
    "        randomCurrentRoute[i1], randomCurrentRoute[i2] = randomCurrentRoute[i2], randomCurrentRoute[i1]\n",
    "\n",
    "        #Calculate the current distance\n",
    "        curDistance = CaculateDistance(routedata ,randomCurrentRoute)\n",
    "\n",
    "        # If our current best distance is larger than the newly found distance, best distance is equal to that current distance\n",
    "        if bestDistance == 0:\n",
    "            bestCityRoute = randomCurrentRoute\n",
    "            bestDistance = curDistance\n",
    "\n",
    "        if bestDistance > curDistance:\n",
    "            bestCityRoute = randomCurrentRoute.copy()\n",
    "            bestDistance = curDistance\n",
    "\n",
    "        # print out the current iteration, current fitness, and best fitness\n",
    "        print(\"Current Iteration: \", i, \" Current Route Distance: \", curDistance, \" Best Distance Overall: \", bestDistance)\n",
    "\n",
    "        # Set the swap values back to their default locations\n",
    "        randomCurrentRoute[i1], randomCurrentRoute[i2] = randomCurrentRoute[i2], randomCurrentRoute[i1]\n",
    "\n",
    "        # store the values from the current iteration into lists\n",
    "        maxFitnessSwap.append(curDistance)\n",
    "        avgFitnessSwap.append((curDistance + bestDistance) // 2)\n",
    "        minFitnessSwap.append(bestDistance)\n",
    "        \n",
    "        # end of for loop\n",
    "        \n",
    "        \n",
    "        \n",
    "    #  Visualisation of results - Part 2.3 - Start\n",
    "    \n",
    "    # Set the plotting points for the line graphs\n",
    "    \n",
    "    # Set the title of the graph\n",
    "    plt.title(\"Swapping Cities in Route\")\n",
    "    \n",
    "    # Set the plot points to the Max, Min, and Avg fitnesses\n",
    "    plt.plot(maxFitnessSwap, label='Maximum Distance')\n",
    "    plt.plot(avgFitnessSwap, label='Average Distance')\n",
    "    plt.plot(minFitnessSwap, label='Minimum Distance')\n",
    "    plt.legend()\n",
    "\n",
    "    # Name the x and y axis\n",
    "    plt.xlabel('Number of Iterations')\n",
    "    plt.ylabel('Distance')\n",
    "    # Part 2.3 - End\n",
    "    \n",
    "    \n",
    "\n",
    "    print(\"The Shortest Route Is: \", bestCityRoute, \"The Total Distance Is: \", bestDistance)\n",
    "    \n",
    "    return bestCityRoute"
   ]
  },
  {
   "cell_type": "code",
   "execution_count": null,
   "metadata": {},
   "outputs": [],
   "source": []
  },
  {
   "cell_type": "code",
   "execution_count": 21,
   "metadata": {},
   "outputs": [],
   "source": [
    "#find the best route and distance\n",
    "def getBestNeighbour(tsp, bestCityRoute):\n",
    "    bestRouteLength = CaculateDistance(tsp, bestCityRoute)\n",
    "    bestNeighbour = bestCityRoute\n",
    "    for neighbour in bestCityRoute:\n",
    "        currentRouteLength = CaculateDistance(tsp, bestCityRoute)\n",
    "        if currentRouteLength < bestRouteLength:\n",
    "            bestRouteLength = currentRouteLength\n",
    "            bestNeighbour = bestCityRoute\n",
    "    return bestNeighbour, bestRouteLength"
   ]
  },
  {
   "cell_type": "code",
   "execution_count": null,
   "metadata": {},
   "outputs": [],
   "source": []
  },
  {
   "cell_type": "code",
   "execution_count": 22,
   "metadata": {},
   "outputs": [],
   "source": [
    "#optimise the route taken from the mutations to find the lowest distance \n",
    "def hillclimber(mutation, cityDataset, tsp, itterations):\n",
    "    \n",
    "    # create a random solution to compare to our mutation function\n",
    "    currentSolution = RandomSolutionCity(cityDataset)\n",
    "    currentRouteDistance = CaculateDistance(tsp ,currentSolution)\n",
    "    neighbours = mutation\n",
    "\n",
    "    # get best value from mutation and optimise it in the while loop\n",
    "    bestNeighbour, bestNeighbourRouteLength = getBestNeighbour(tsp, neighbours)\n",
    "\n",
    "    # Get best mutation/neighbour distance and compare to current route\n",
    "    while bestNeighbourRouteLength < currentRouteDistance:\n",
    "        currentSolution = bestNeighbour\n",
    "        currentRouteDistance = bestNeighbourRouteLength\n",
    "        neighbours = mutation\n",
    "        bestNeighbour, bestNeighbourRouteLength = getBestNeighbour(tsp, neighbours)\n",
    "\n",
    "    # return the best solution and fitness\n",
    "    return currentSolution, currentRouteDistance"
   ]
  },
  {
   "cell_type": "markdown",
   "metadata": {},
   "source": [
    "# Algorithm implementation - Part 2.2 - End"
   ]
  },
  {
   "cell_type": "code",
   "execution_count": null,
   "metadata": {},
   "outputs": [],
   "source": []
  },
  {
   "cell_type": "markdown",
   "metadata": {},
   "source": [
    "# Visualisation of results - Part 2.3 - Start\n",
    "Also begins inside both mutation functions"
   ]
  },
  {
   "cell_type": "code",
   "execution_count": 23,
   "metadata": {},
   "outputs": [
    {
     "name": "stdout",
     "output_type": "stream",
     "text": [
      "Beginning Swap Mutation - Testing Current Route:  [7, 1, 13, 6, 18, 8, 11, 12, 15, 17, 19, 2, 0, 4, 9, 16, 3, 14, 5, 10]\n",
      "Current Iteration:  0  Current Route Distance:  5201.6  Best Distance Overall:  5201.6\n",
      "Current Iteration:  1  Current Route Distance:  5373.6  Best Distance Overall:  5201.6\n",
      "Current Iteration:  2  Current Route Distance:  4718.6  Best Distance Overall:  4718.6\n",
      "Current Iteration:  3  Current Route Distance:  5192.6  Best Distance Overall:  4718.6\n",
      "Current Iteration:  4  Current Route Distance:  4829.1  Best Distance Overall:  4718.6\n",
      "Current Iteration:  5  Current Route Distance:  5388.0  Best Distance Overall:  4718.6\n",
      "Current Iteration:  6  Current Route Distance:  5375.6  Best Distance Overall:  4718.6\n",
      "Current Iteration:  7  Current Route Distance:  5187.6  Best Distance Overall:  4718.6\n",
      "Current Iteration:  8  Current Route Distance:  4757.6  Best Distance Overall:  4718.6\n",
      "Current Iteration:  9  Current Route Distance:  5093.6  Best Distance Overall:  4718.6\n",
      "Current Iteration:  10  Current Route Distance:  5145.8  Best Distance Overall:  4718.6\n",
      "Current Iteration:  11  Current Route Distance:  5277.6  Best Distance Overall:  4718.6\n",
      "Current Iteration:  12  Current Route Distance:  5028.1  Best Distance Overall:  4718.6\n",
      "Current Iteration:  13  Current Route Distance:  4911.1  Best Distance Overall:  4718.6\n",
      "Current Iteration:  14  Current Route Distance:  5179.5  Best Distance Overall:  4718.6\n",
      "Current Iteration:  15  Current Route Distance:  5373.6  Best Distance Overall:  4718.6\n",
      "Current Iteration:  16  Current Route Distance:  5008.6  Best Distance Overall:  4718.6\n",
      "Current Iteration:  17  Current Route Distance:  4938.6  Best Distance Overall:  4718.6\n",
      "Current Iteration:  18  Current Route Distance:  4671.1  Best Distance Overall:  4671.1\n",
      "Current Iteration:  19  Current Route Distance:  5281.6  Best Distance Overall:  4671.1\n",
      "Current Iteration:  20  Current Route Distance:  5277.6  Best Distance Overall:  4671.1\n",
      "Current Iteration:  21  Current Route Distance:  4930.700000000001  Best Distance Overall:  4671.1\n",
      "Current Iteration:  22  Current Route Distance:  5207.6  Best Distance Overall:  4671.1\n",
      "Current Iteration:  23  Current Route Distance:  4794.6  Best Distance Overall:  4671.1\n",
      "Current Iteration:  24  Current Route Distance:  5192.6  Best Distance Overall:  4671.1\n",
      "Current Iteration:  25  Current Route Distance:  5306.6  Best Distance Overall:  4671.1\n",
      "Current Iteration:  26  Current Route Distance:  4600.6  Best Distance Overall:  4600.6\n",
      "Current Iteration:  27  Current Route Distance:  5201.6  Best Distance Overall:  4600.6\n",
      "Current Iteration:  28  Current Route Distance:  5207.6  Best Distance Overall:  4600.6\n",
      "Current Iteration:  29  Current Route Distance:  5008.6  Best Distance Overall:  4600.6\n",
      "The Shortest Route Is:  [7, 1, 13, 6, 18, 8, 11, 12, 15, 17, 19, 2, 5, 4, 9, 16, 3, 14, 0, 10] The Total Distance Is:  4600.6\n"
     ]
    },
    {
     "data": {
      "text/plain": [
       "([7, 1, 13, 6, 18, 8, 11, 12, 15, 17, 19, 2, 5, 4, 9, 16, 3, 14, 0, 10],\n",
       " 4600.6)"
      ]
     },
     "execution_count": 23,
     "metadata": {},
     "output_type": "execute_result"
    },
    {
     "data": {
      "image/png": "[encoded data removed]",
      "text/plain": [
       "<Figure size 432x288 with 1 Axes>"
      ]
     },
     "metadata": {
      "needs_background": "light"
     },
     "output_type": "display_data"
    }
   ],
   "source": [
    "# Bug - Provides correct total distance, but return value for best distance changes (doesn't effect outcome - visual bug - only happens sometimes)\n",
    "hillclimber(swapMutation(30, citiesData), citiesData, routedata, 30)"
   ]
  },
  {
   "cell_type": "code",
   "execution_count": 24,
   "metadata": {},
   "outputs": [
    {
     "name": "stdout",
     "output_type": "stream",
     "text": [
      "Beginning Ruin and Recreate Mutation...\n",
      "Current Iteration:  0  Current Route Distance:  4791.7  Best Distance Overall:  4791.7\n",
      "Current Iteration:  1  Current Route Distance:  3864.3  Best Distance Overall:  3864.3\n",
      "Current Iteration:  2  Current Route Distance:  5119.6  Best Distance Overall:  3864.3\n",
      "Current Iteration:  3  Current Route Distance:  4461.0  Best Distance Overall:  3864.3\n",
      "Current Iteration:  4  Current Route Distance:  4852.5  Best Distance Overall:  3864.3\n",
      "Current Iteration:  5  Current Route Distance:  4856.5  Best Distance Overall:  3864.3\n",
      "Current Iteration:  6  Current Route Distance:  4495.2  Best Distance Overall:  3864.3\n",
      "Current Iteration:  7  Current Route Distance:  5296.8  Best Distance Overall:  3864.3\n",
      "Current Iteration:  8  Current Route Distance:  4054.1  Best Distance Overall:  3864.3\n",
      "Current Iteration:  9  Current Route Distance:  4836.4  Best Distance Overall:  3864.3\n",
      "Current Iteration:  10  Current Route Distance:  5526.6  Best Distance Overall:  3864.3\n",
      "Current Iteration:  11  Current Route Distance:  4874.2  Best Distance Overall:  3864.3\n",
      "Current Iteration:  12  Current Route Distance:  4518.2  Best Distance Overall:  3864.3\n",
      "Current Iteration:  13  Current Route Distance:  4836.1  Best Distance Overall:  3864.3\n",
      "Current Iteration:  14  Current Route Distance:  5854.0  Best Distance Overall:  3864.3\n",
      "Current Iteration:  15  Current Route Distance:  4442.9  Best Distance Overall:  3864.3\n",
      "Current Iteration:  16  Current Route Distance:  4223.9  Best Distance Overall:  3864.3\n",
      "Current Iteration:  17  Current Route Distance:  4064.4  Best Distance Overall:  3864.3\n",
      "Current Iteration:  18  Current Route Distance:  4467.0  Best Distance Overall:  3864.3\n",
      "Current Iteration:  19  Current Route Distance:  5981.0  Best Distance Overall:  3864.3\n",
      "Current Iteration:  20  Current Route Distance:  5479.400000000001  Best Distance Overall:  3864.3\n",
      "Current Iteration:  21  Current Route Distance:  5495.6  Best Distance Overall:  3864.3\n",
      "Current Iteration:  22  Current Route Distance:  4056.2  Best Distance Overall:  3864.3\n",
      "Current Iteration:  23  Current Route Distance:  4669.0  Best Distance Overall:  3864.3\n",
      "Current Iteration:  24  Current Route Distance:  5538.5  Best Distance Overall:  3864.3\n",
      "Current Iteration:  25  Current Route Distance:  5053.5  Best Distance Overall:  3864.3\n",
      "Current Iteration:  26  Current Route Distance:  4307.3  Best Distance Overall:  3864.3\n",
      "Current Iteration:  27  Current Route Distance:  4710.400000000001  Best Distance Overall:  3864.3\n",
      "Current Iteration:  28  Current Route Distance:  4567.4  Best Distance Overall:  3864.3\n",
      "Current Iteration:  29  Current Route Distance:  5056.0  Best Distance Overall:  3864.3\n",
      "The Shortest Route Is:  [2, 16, 4, 6, 18, 10, 19, 9, 15, 7, 1, 13, 17, 0, 11, 14, 5, 12, 8, 3] The Total Distance Is:  3864.3\n"
     ]
    },
    {
     "data": {
      "text/plain": [
       "([8, 1, 15, 16, 19, 9, 11, 17, 14, 6, 5, 3, 0, 4, 18, 12, 2, 13, 7, 10],\n",
       " 3863.4)"
      ]
     },
     "execution_count": 24,
     "metadata": {},
     "output_type": "execute_result"
    },
    {
     "data": {
      "image/png": "[encoded data removed]",
      "text/plain": [
       "<Figure size 432x288 with 1 Axes>"
      ]
     },
     "metadata": {
      "needs_background": "light"
     },
     "output_type": "display_data"
    }
   ],
   "source": [
    "# Bug - Provides correct total distance, but return value for best distance changes (doesn't effect outcome - visual bug - only happens sometimes)\n",
    "hillclimber(ruinAndRecreateMutation(30, citiesData), citiesData, routedata, 30)"
   ]
  },
  {
   "cell_type": "code",
   "execution_count": 25,
   "metadata": {},
   "outputs": [
    {
     "data": {
      "text/plain": [
       "Text(0, 0.5, 'Distance')"
      ]
     },
     "execution_count": 25,
     "metadata": {},
     "output_type": "execute_result"
    },
    {
     "data": {
      "image/png": "[encoded data removed]",
      "text/plain": [
       "<Figure size 432x288 with 1 Axes>"
      ]
     },
     "metadata": {
      "needs_background": "light"
     },
     "output_type": "display_data"
    }
   ],
   "source": [
    "# Set the plotting points for the line graphs\n",
    "\n",
    "# Set the title of the graph\n",
    "plt.title(\"Comparison of Mutation Averages\")\n",
    "\n",
    "# set the plot points to the avg of the Ruin & Recreate/Swap Mutations\n",
    "plt.plot(avgFitnessRR, label='Average Ruin & Recreate Distance')\n",
    "plt.plot(avgFitnessSwap, label='Average Swap Distance')\n",
    "plt.legend()\n",
    "\n",
    "# Name the x and y axis\n",
    "plt.xlabel('Number of Iterations')\n",
    "plt.ylabel('Distance')"
   ]
  },
  {
   "cell_type": "markdown",
   "metadata": {},
   "source": [
    "Above we can see the comparison between the two mutations (Ruin and Recreate & Swap). After running the Hillclimber Algorithm multiple times, I am noticing that the best mutation operator appears to be the Ruin and Recreate.\n",
    "It reaches a much better fitness than the Swap Mutator, but the swap does have a more consistency due to it not being randomised, the radomisation allows us to have a higher chance a receiving a lower value as it is ever changing, while the swap will take the same route and only change two values from it. Meaning the value may change between only a few hundred, while the randomiser could alter between thousand or more."
   ]
  },
  {
   "cell_type": "markdown",
   "metadata": {},
   "source": [
    "# Visualisation of results - Part 2.3 - End"
   ]
  },
  {
   "cell_type": "code",
   "execution_count": null,
   "metadata": {},
   "outputs": [],
   "source": []
  }
 ],
 "metadata": {
  "kernelspec": {
   "display_name": "Python 3",
   "language": "python",
   "name": "python3"
  },
  "language_info": {
   "codemirror_mode": {
    "name": "ipython",
    "version": 3
   },
   "file_extension": ".py",
   "mimetype": "text/x-python",
   "name": "python",
   "nbconvert_exporter": "python",
   "pygments_lexer": "ipython3",
   "version": "3.7.0"
  }
 },
 "nbformat": 4,
 "nbformat_minor": 4
}
