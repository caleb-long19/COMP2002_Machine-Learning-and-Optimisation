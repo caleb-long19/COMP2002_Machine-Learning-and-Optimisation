{
 "cells": [
  {
   "cell_type": "markdown",
   "metadata": {},
   "source": [
    "# COMP2002 - Machine Learning and Optimisation Assignment\n",
    "This template can be used for the weekly coding exercises, and for your coursework."
   ]
  },
  {
   "cell_type": "code",
   "execution_count": 1,
   "metadata": {},
   "outputs": [],
   "source": [
    "# Import packages used in the Python Program\n",
    "import pandas as pandas\n",
    "import matplotlib.pyplot as plt\n",
    "import numpy as np\n",
    "\n",
    "from sklearn.preprocessing import MinMaxScaler\n",
    "from sklearn.ensemble import RandomForestRegressor \n",
    "from sklearn.neural_network import MLPRegressor \n",
    "from sklearn.svm import SVR \n",
    "from sklearn.metrics import mean_absolute_error\n",
    "from sklearn import preprocessing\n",
    "from sklearn.model_selection import cross_val_score\n",
    "from sklearn.model_selection import train_test_split"
   ]
  },
  {
   "cell_type": "code",
   "execution_count": null,
   "metadata": {},
   "outputs": [],
   "source": []
  },
  {
   "cell_type": "code",
   "execution_count": 2,
   "metadata": {},
   "outputs": [],
   "source": [
    "# Task 1.1 – Data preparation - Start\n",
    "\n",
    "# Import datasets and Train with AlgerianFF Region 1 and Test with Algerian Region 2\n",
    "AffRegion1Dataset = pandas.read_csv(\"AlgerianFF_Region1.csv\")\n",
    "AffRegion2Dataset = pandas.read_csv(\"AlgerianFF_Region2.csv\")"
   ]
  },
  {
   "cell_type": "code",
   "execution_count": null,
   "metadata": {},
   "outputs": [],
   "source": []
  },
  {
   "cell_type": "code",
   "execution_count": 3,
   "metadata": {},
   "outputs": [
    {
     "data": {
      "text/html": [
       "<div>\n",
       "<style scoped>\n",
       "    .dataframe tbody tr th:only-of-type {\n",
       "        vertical-align: middle;\n",
       "    }\n",
       "\n",
       "    .dataframe tbody tr th {\n",
       "        vertical-align: top;\n",
       "    }\n",
       "\n",
       "    .dataframe thead th {\n",
       "        text-align: right;\n",
       "    }\n",
       "</style>\n",
       "<table border=\"1\" class=\"dataframe\">\n",
       "  <thead>\n",
       "    <tr style=\"text-align: right;\">\n",
       "      <th></th>\n",
       "      <th>day</th>\n",
       "      <th>month</th>\n",
       "      <th>year</th>\n",
       "      <th>Temperature</th>\n",
       "      <th>RH</th>\n",
       "      <th>Ws</th>\n",
       "      <th>Rain</th>\n",
       "      <th>FFMC</th>\n",
       "      <th>DMC</th>\n",
       "      <th>DC</th>\n",
       "      <th>ISI</th>\n",
       "      <th>BUI</th>\n",
       "      <th>FWI</th>\n",
       "    </tr>\n",
       "  </thead>\n",
       "  <tbody>\n",
       "    <tr>\n",
       "      <th>0</th>\n",
       "      <td>1</td>\n",
       "      <td>6</td>\n",
       "      <td>2012</td>\n",
       "      <td>29</td>\n",
       "      <td>57</td>\n",
       "      <td>18</td>\n",
       "      <td>0.0</td>\n",
       "      <td>65.7</td>\n",
       "      <td>3.4</td>\n",
       "      <td>7.6</td>\n",
       "      <td>1.3</td>\n",
       "      <td>3.4</td>\n",
       "      <td>0.5</td>\n",
       "    </tr>\n",
       "    <tr>\n",
       "      <th>1</th>\n",
       "      <td>2</td>\n",
       "      <td>6</td>\n",
       "      <td>2012</td>\n",
       "      <td>29</td>\n",
       "      <td>61</td>\n",
       "      <td>13</td>\n",
       "      <td>1.3</td>\n",
       "      <td>64.4</td>\n",
       "      <td>4.1</td>\n",
       "      <td>7.6</td>\n",
       "      <td>1.0</td>\n",
       "      <td>3.9</td>\n",
       "      <td>0.4</td>\n",
       "    </tr>\n",
       "    <tr>\n",
       "      <th>2</th>\n",
       "      <td>3</td>\n",
       "      <td>6</td>\n",
       "      <td>2012</td>\n",
       "      <td>26</td>\n",
       "      <td>82</td>\n",
       "      <td>22</td>\n",
       "      <td>13.1</td>\n",
       "      <td>47.1</td>\n",
       "      <td>2.5</td>\n",
       "      <td>7.1</td>\n",
       "      <td>0.3</td>\n",
       "      <td>2.7</td>\n",
       "      <td>0.1</td>\n",
       "    </tr>\n",
       "    <tr>\n",
       "      <th>3</th>\n",
       "      <td>4</td>\n",
       "      <td>6</td>\n",
       "      <td>2012</td>\n",
       "      <td>25</td>\n",
       "      <td>89</td>\n",
       "      <td>13</td>\n",
       "      <td>2.5</td>\n",
       "      <td>28.6</td>\n",
       "      <td>1.3</td>\n",
       "      <td>6.9</td>\n",
       "      <td>0.0</td>\n",
       "      <td>1.7</td>\n",
       "      <td>0.0</td>\n",
       "    </tr>\n",
       "    <tr>\n",
       "      <th>4</th>\n",
       "      <td>5</td>\n",
       "      <td>6</td>\n",
       "      <td>2012</td>\n",
       "      <td>27</td>\n",
       "      <td>77</td>\n",
       "      <td>16</td>\n",
       "      <td>0.0</td>\n",
       "      <td>64.8</td>\n",
       "      <td>3.0</td>\n",
       "      <td>14.2</td>\n",
       "      <td>1.2</td>\n",
       "      <td>3.9</td>\n",
       "      <td>0.5</td>\n",
       "    </tr>\n",
       "    <tr>\n",
       "      <th>...</th>\n",
       "      <td>...</td>\n",
       "      <td>...</td>\n",
       "      <td>...</td>\n",
       "      <td>...</td>\n",
       "      <td>...</td>\n",
       "      <td>...</td>\n",
       "      <td>...</td>\n",
       "      <td>...</td>\n",
       "      <td>...</td>\n",
       "      <td>...</td>\n",
       "      <td>...</td>\n",
       "      <td>...</td>\n",
       "      <td>...</td>\n",
       "    </tr>\n",
       "    <tr>\n",
       "      <th>117</th>\n",
       "      <td>26</td>\n",
       "      <td>9</td>\n",
       "      <td>2012</td>\n",
       "      <td>31</td>\n",
       "      <td>54</td>\n",
       "      <td>11</td>\n",
       "      <td>0.0</td>\n",
       "      <td>82.0</td>\n",
       "      <td>6.0</td>\n",
       "      <td>16.3</td>\n",
       "      <td>2.5</td>\n",
       "      <td>6.2</td>\n",
       "      <td>1.7</td>\n",
       "    </tr>\n",
       "    <tr>\n",
       "      <th>118</th>\n",
       "      <td>27</td>\n",
       "      <td>9</td>\n",
       "      <td>2012</td>\n",
       "      <td>31</td>\n",
       "      <td>66</td>\n",
       "      <td>11</td>\n",
       "      <td>0.0</td>\n",
       "      <td>85.7</td>\n",
       "      <td>8.3</td>\n",
       "      <td>24.9</td>\n",
       "      <td>4.0</td>\n",
       "      <td>9.0</td>\n",
       "      <td>4.1</td>\n",
       "    </tr>\n",
       "    <tr>\n",
       "      <th>119</th>\n",
       "      <td>28</td>\n",
       "      <td>9</td>\n",
       "      <td>2012</td>\n",
       "      <td>32</td>\n",
       "      <td>47</td>\n",
       "      <td>14</td>\n",
       "      <td>0.7</td>\n",
       "      <td>77.5</td>\n",
       "      <td>7.1</td>\n",
       "      <td>8.8</td>\n",
       "      <td>1.8</td>\n",
       "      <td>6.8</td>\n",
       "      <td>0.9</td>\n",
       "    </tr>\n",
       "    <tr>\n",
       "      <th>120</th>\n",
       "      <td>29</td>\n",
       "      <td>9</td>\n",
       "      <td>2012</td>\n",
       "      <td>26</td>\n",
       "      <td>80</td>\n",
       "      <td>16</td>\n",
       "      <td>1.8</td>\n",
       "      <td>47.4</td>\n",
       "      <td>2.9</td>\n",
       "      <td>7.7</td>\n",
       "      <td>0.3</td>\n",
       "      <td>3.0</td>\n",
       "      <td>0.1</td>\n",
       "    </tr>\n",
       "    <tr>\n",
       "      <th>121</th>\n",
       "      <td>30</td>\n",
       "      <td>9</td>\n",
       "      <td>2012</td>\n",
       "      <td>25</td>\n",
       "      <td>78</td>\n",
       "      <td>14</td>\n",
       "      <td>1.4</td>\n",
       "      <td>45.0</td>\n",
       "      <td>1.9</td>\n",
       "      <td>7.5</td>\n",
       "      <td>0.2</td>\n",
       "      <td>2.4</td>\n",
       "      <td>0.1</td>\n",
       "    </tr>\n",
       "  </tbody>\n",
       "</table>\n",
       "<p>122 rows × 13 columns</p>\n",
       "</div>"
      ],
      "text/plain": [
       "     day  month  year  Temperature   RH   Ws  Rain   FFMC  DMC    DC  ISI  \\\n",
       "0      1      6  2012           29   57   18    0.0  65.7  3.4   7.6  1.3   \n",
       "1      2      6  2012           29   61   13    1.3  64.4  4.1   7.6  1.0   \n",
       "2      3      6  2012           26   82   22   13.1  47.1  2.5   7.1  0.3   \n",
       "3      4      6  2012           25   89   13    2.5  28.6  1.3   6.9  0.0   \n",
       "4      5      6  2012           27   77   16    0.0  64.8  3.0  14.2  1.2   \n",
       "..   ...    ...   ...          ...  ...  ...    ...   ...  ...   ...  ...   \n",
       "117   26      9  2012           31   54   11    0.0  82.0  6.0  16.3  2.5   \n",
       "118   27      9  2012           31   66   11    0.0  85.7  8.3  24.9  4.0   \n",
       "119   28      9  2012           32   47   14    0.7  77.5  7.1   8.8  1.8   \n",
       "120   29      9  2012           26   80   16    1.8  47.4  2.9   7.7  0.3   \n",
       "121   30      9  2012           25   78   14    1.4  45.0  1.9   7.5  0.2   \n",
       "\n",
       "     BUI  FWI  \n",
       "0    3.4  0.5  \n",
       "1    3.9  0.4  \n",
       "2    2.7  0.1  \n",
       "3    1.7  0.0  \n",
       "4    3.9  0.5  \n",
       "..   ...  ...  \n",
       "117  6.2  1.7  \n",
       "118  9.0  4.1  \n",
       "119  6.8  0.9  \n",
       "120  3.0  0.1  \n",
       "121  2.4  0.1  \n",
       "\n",
       "[122 rows x 13 columns]"
      ]
     },
     "execution_count": 3,
     "metadata": {},
     "output_type": "execute_result"
    }
   ],
   "source": [
    "# Display the contents of the Region 1 Dataset\n",
    "AffRegion1Dataset"
   ]
  },
  {
   "cell_type": "code",
   "execution_count": 4,
   "metadata": {},
   "outputs": [
    {
     "data": {
      "text/html": [
       "<div>\n",
       "<style scoped>\n",
       "    .dataframe tbody tr th:only-of-type {\n",
       "        vertical-align: middle;\n",
       "    }\n",
       "\n",
       "    .dataframe tbody tr th {\n",
       "        vertical-align: top;\n",
       "    }\n",
       "\n",
       "    .dataframe thead th {\n",
       "        text-align: right;\n",
       "    }\n",
       "</style>\n",
       "<table border=\"1\" class=\"dataframe\">\n",
       "  <thead>\n",
       "    <tr style=\"text-align: right;\">\n",
       "      <th></th>\n",
       "      <th>day</th>\n",
       "      <th>month</th>\n",
       "      <th>year</th>\n",
       "      <th>Temperature</th>\n",
       "      <th>RH</th>\n",
       "      <th>Ws</th>\n",
       "      <th>Rain</th>\n",
       "      <th>FFMC</th>\n",
       "      <th>DMC</th>\n",
       "      <th>DC</th>\n",
       "      <th>ISI</th>\n",
       "      <th>BUI</th>\n",
       "      <th>FWI</th>\n",
       "    </tr>\n",
       "  </thead>\n",
       "  <tbody>\n",
       "    <tr>\n",
       "      <th>0</th>\n",
       "      <td>1</td>\n",
       "      <td>6</td>\n",
       "      <td>2012</td>\n",
       "      <td>32</td>\n",
       "      <td>71</td>\n",
       "      <td>12</td>\n",
       "      <td>0.7</td>\n",
       "      <td>57.1</td>\n",
       "      <td>2.5</td>\n",
       "      <td>8.2</td>\n",
       "      <td>0.6</td>\n",
       "      <td>2.8</td>\n",
       "      <td>0.2</td>\n",
       "    </tr>\n",
       "    <tr>\n",
       "      <th>1</th>\n",
       "      <td>2</td>\n",
       "      <td>6</td>\n",
       "      <td>2012</td>\n",
       "      <td>30</td>\n",
       "      <td>73</td>\n",
       "      <td>13</td>\n",
       "      <td>4.0</td>\n",
       "      <td>55.7</td>\n",
       "      <td>2.7</td>\n",
       "      <td>7.8</td>\n",
       "      <td>0.6</td>\n",
       "      <td>2.9</td>\n",
       "      <td>0.2</td>\n",
       "    </tr>\n",
       "    <tr>\n",
       "      <th>2</th>\n",
       "      <td>3</td>\n",
       "      <td>6</td>\n",
       "      <td>2012</td>\n",
       "      <td>29</td>\n",
       "      <td>80</td>\n",
       "      <td>14</td>\n",
       "      <td>2.0</td>\n",
       "      <td>48.7</td>\n",
       "      <td>2.2</td>\n",
       "      <td>7.6</td>\n",
       "      <td>0.3</td>\n",
       "      <td>2.6</td>\n",
       "      <td>0.1</td>\n",
       "    </tr>\n",
       "    <tr>\n",
       "      <th>3</th>\n",
       "      <td>4</td>\n",
       "      <td>6</td>\n",
       "      <td>2012</td>\n",
       "      <td>30</td>\n",
       "      <td>64</td>\n",
       "      <td>14</td>\n",
       "      <td>0.0</td>\n",
       "      <td>79.4</td>\n",
       "      <td>5.2</td>\n",
       "      <td>15.4</td>\n",
       "      <td>2.2</td>\n",
       "      <td>5.6</td>\n",
       "      <td>1.0</td>\n",
       "    </tr>\n",
       "    <tr>\n",
       "      <th>4</th>\n",
       "      <td>5</td>\n",
       "      <td>6</td>\n",
       "      <td>2012</td>\n",
       "      <td>32</td>\n",
       "      <td>60</td>\n",
       "      <td>14</td>\n",
       "      <td>0.2</td>\n",
       "      <td>77.1</td>\n",
       "      <td>6.0</td>\n",
       "      <td>17.6</td>\n",
       "      <td>1.8</td>\n",
       "      <td>6.5</td>\n",
       "      <td>0.9</td>\n",
       "    </tr>\n",
       "    <tr>\n",
       "      <th>...</th>\n",
       "      <td>...</td>\n",
       "      <td>...</td>\n",
       "      <td>...</td>\n",
       "      <td>...</td>\n",
       "      <td>...</td>\n",
       "      <td>...</td>\n",
       "      <td>...</td>\n",
       "      <td>...</td>\n",
       "      <td>...</td>\n",
       "      <td>...</td>\n",
       "      <td>...</td>\n",
       "      <td>...</td>\n",
       "      <td>...</td>\n",
       "    </tr>\n",
       "    <tr>\n",
       "      <th>117</th>\n",
       "      <td>26</td>\n",
       "      <td>9</td>\n",
       "      <td>2012</td>\n",
       "      <td>30</td>\n",
       "      <td>65</td>\n",
       "      <td>14</td>\n",
       "      <td>0.0</td>\n",
       "      <td>85.4</td>\n",
       "      <td>16.0</td>\n",
       "      <td>44.5</td>\n",
       "      <td>4.5</td>\n",
       "      <td>16.9</td>\n",
       "      <td>6.5</td>\n",
       "    </tr>\n",
       "    <tr>\n",
       "      <th>118</th>\n",
       "      <td>27</td>\n",
       "      <td>9</td>\n",
       "      <td>2012</td>\n",
       "      <td>28</td>\n",
       "      <td>87</td>\n",
       "      <td>15</td>\n",
       "      <td>4.4</td>\n",
       "      <td>41.1</td>\n",
       "      <td>6.5</td>\n",
       "      <td>8.0</td>\n",
       "      <td>0.1</td>\n",
       "      <td>6.2</td>\n",
       "      <td>0.0</td>\n",
       "    </tr>\n",
       "    <tr>\n",
       "      <th>119</th>\n",
       "      <td>28</td>\n",
       "      <td>9</td>\n",
       "      <td>2012</td>\n",
       "      <td>27</td>\n",
       "      <td>87</td>\n",
       "      <td>29</td>\n",
       "      <td>0.5</td>\n",
       "      <td>45.9</td>\n",
       "      <td>3.5</td>\n",
       "      <td>7.9</td>\n",
       "      <td>0.4</td>\n",
       "      <td>3.4</td>\n",
       "      <td>0.2</td>\n",
       "    </tr>\n",
       "    <tr>\n",
       "      <th>120</th>\n",
       "      <td>29</td>\n",
       "      <td>9</td>\n",
       "      <td>2012</td>\n",
       "      <td>24</td>\n",
       "      <td>54</td>\n",
       "      <td>18</td>\n",
       "      <td>0.1</td>\n",
       "      <td>79.7</td>\n",
       "      <td>4.3</td>\n",
       "      <td>15.2</td>\n",
       "      <td>1.7</td>\n",
       "      <td>5.1</td>\n",
       "      <td>0.7</td>\n",
       "    </tr>\n",
       "    <tr>\n",
       "      <th>121</th>\n",
       "      <td>30</td>\n",
       "      <td>9</td>\n",
       "      <td>2012</td>\n",
       "      <td>24</td>\n",
       "      <td>64</td>\n",
       "      <td>15</td>\n",
       "      <td>0.2</td>\n",
       "      <td>67.3</td>\n",
       "      <td>3.8</td>\n",
       "      <td>16.5</td>\n",
       "      <td>1.2</td>\n",
       "      <td>4.8</td>\n",
       "      <td>0.5</td>\n",
       "    </tr>\n",
       "  </tbody>\n",
       "</table>\n",
       "<p>122 rows × 13 columns</p>\n",
       "</div>"
      ],
      "text/plain": [
       "     day  month  year  Temperature   RH   Ws  Rain   FFMC   DMC    DC  ISI  \\\n",
       "0      1      6  2012           32   71   12    0.7  57.1   2.5   8.2  0.6   \n",
       "1      2      6  2012           30   73   13    4.0  55.7   2.7   7.8  0.6   \n",
       "2      3      6  2012           29   80   14    2.0  48.7   2.2   7.6  0.3   \n",
       "3      4      6  2012           30   64   14    0.0  79.4   5.2  15.4  2.2   \n",
       "4      5      6  2012           32   60   14    0.2  77.1   6.0  17.6  1.8   \n",
       "..   ...    ...   ...          ...  ...  ...    ...   ...   ...   ...  ...   \n",
       "117   26      9  2012           30   65   14    0.0  85.4  16.0  44.5  4.5   \n",
       "118   27      9  2012           28   87   15    4.4  41.1   6.5   8.0  0.1   \n",
       "119   28      9  2012           27   87   29    0.5  45.9   3.5   7.9  0.4   \n",
       "120   29      9  2012           24   54   18    0.1  79.7   4.3  15.2  1.7   \n",
       "121   30      9  2012           24   64   15    0.2  67.3   3.8  16.5  1.2   \n",
       "\n",
       "      BUI  FWI  \n",
       "0     2.8  0.2  \n",
       "1     2.9  0.2  \n",
       "2     2.6  0.1  \n",
       "3     5.6  1.0  \n",
       "4     6.5  0.9  \n",
       "..    ...  ...  \n",
       "117  16.9  6.5  \n",
       "118   6.2  0.0  \n",
       "119   3.4  0.2  \n",
       "120   5.1  0.7  \n",
       "121   4.8  0.5  \n",
       "\n",
       "[122 rows x 13 columns]"
      ]
     },
     "execution_count": 4,
     "metadata": {},
     "output_type": "execute_result"
    }
   ],
   "source": [
    "# Display the contents of the Region 2 Dataset\n",
    "AffRegion2Dataset"
   ]
  },
  {
   "cell_type": "code",
   "execution_count": 5,
   "metadata": {},
   "outputs": [],
   "source": [
    "# Retrieve and seperate inputs/targets from datasets\n",
    "inputs_DatasetRegion1 = AffRegion1Dataset[['day', 'month', 'year', 'Temperature', ' RH', ' Ws', 'Rain ', 'FFMC', 'DMC', 'DC', 'ISI', 'BUI']]\n",
    "targets_DatasetRegion1 = AffRegion1Dataset[['FWI']]\n",
    "\n",
    "inputs_testRegion2 = AffRegion2Dataset[['day', 'month', 'year', 'Temperature', ' RH', ' Ws', 'Rain ', 'FFMC', 'DMC', 'DC', 'ISI', 'BUI']]\n",
    "targets_testRegion2Data = AffRegion2Dataset[['FWI']]"
   ]
  },
  {
   "cell_type": "code",
   "execution_count": null,
   "metadata": {},
   "outputs": [],
   "source": []
  },
  {
   "cell_type": "code",
   "execution_count": 6,
   "metadata": {},
   "outputs": [],
   "source": [
    "# Normalisze the data set inputs\n",
    "scaler = MinMaxScaler()\n",
    "trainingData = scaler.fit_transform(inputs_DatasetRegion1)\n",
    "testingData = scaler.fit_transform(inputs_testRegion2)"
   ]
  },
  {
   "cell_type": "code",
   "execution_count": 7,
   "metadata": {},
   "outputs": [],
   "source": [
    "# Task 1.2 – Data preparation - End"
   ]
  },
  {
   "cell_type": "code",
   "execution_count": null,
   "metadata": {},
   "outputs": [],
   "source": []
  },
  {
   "cell_type": "code",
   "execution_count": 8,
   "metadata": {},
   "outputs": [],
   "source": [
    "# Task 1.2 – Regression - Start"
   ]
  },
  {
   "cell_type": "code",
   "execution_count": 9,
   "metadata": {},
   "outputs": [
    {
     "name": "stdout",
     "output_type": "stream",
     "text": [
      "2.9539590163934415\n"
     ]
    }
   ],
   "source": [
    "# Random Forest Regression Method\n",
    "RandomF_Regressor = RandomForestRegressor()\n",
    "RandomF_Regressor.fit(trainingData, targets_DatasetRegion1.values.ravel())\n",
    "RandonF_outputs = RandomF_Regressor.predict(testingData)\n",
    "RandonForest_MAE = (mean_absolute_error(targets_testRegion2Data, RandonF_outputs))\n",
    "print(RandonForest_MAE)"
   ]
  },
  {
   "cell_type": "code",
   "execution_count": 10,
   "metadata": {},
   "outputs": [],
   "source": [
    "# Cross Validation Score for Random Forest\n",
    "RandomF_CVS = cross_val_score(RandomF_Regressor, testingData, targets_testRegion2Data.values.ravel() , cv=3)"
   ]
  },
  {
   "cell_type": "code",
   "execution_count": null,
   "metadata": {},
   "outputs": [],
   "source": []
  },
  {
   "cell_type": "code",
   "execution_count": 11,
   "metadata": {},
   "outputs": [
    {
     "name": "stdout",
     "output_type": "stream",
     "text": [
      "2.544121420618071\n"
     ]
    }
   ],
   "source": [
    "# Random MLP Regressor Method\n",
    "MLP_Regressor = MLPRegressor()\n",
    "MLP_Regressor.fit(trainingData, targets_DatasetRegion1.values.ravel()) #2000 iterations\n",
    "MLP_Outputs = MLP_Regressor.predict(testingData)\n",
    "MLP_MAE = (mean_absolute_error(targets_testRegion2Data, MLP_Outputs))\n",
    "print(MLP_MAE)"
   ]
  },
  {
   "cell_type": "code",
   "execution_count": 12,
   "metadata": {},
   "outputs": [],
   "source": [
    "# Cross Validation Score for Neural Network\n",
    "MLP_CVS = cross_val_score(MLP_Regressor, testingData, targets_testRegion2Data.values.ravel(), cv=3)"
   ]
  },
  {
   "cell_type": "code",
   "execution_count": null,
   "metadata": {},
   "outputs": [],
   "source": []
  },
  {
   "cell_type": "code",
   "execution_count": 13,
   "metadata": {},
   "outputs": [
    {
     "name": "stdout",
     "output_type": "stream",
     "text": [
      "3.265285328447862\n"
     ]
    }
   ],
   "source": [
    "# Random Support Vector Machine Method\n",
    "SVR_Regressor = SVR()\n",
    "SVR_Regressor.fit(trainingData, targets_DatasetRegion1.values.ravel())\n",
    "SVR_Outputs = SVR_Regressor.predict(testingData)\n",
    "SVR_MAE = (mean_absolute_error(targets_testRegion2Data, SVR_Outputs))\n",
    "print(SVR_MAE)"
   ]
  },
  {
   "cell_type": "code",
   "execution_count": 14,
   "metadata": {},
   "outputs": [],
   "source": [
    "# Cross Validation Score for Support Vector Machine\n",
    "SVR_CVS = cross_val_score(SVR_Regressor, testingData, targets_testRegion2Data.values.ravel() , cv=3)"
   ]
  },
  {
   "cell_type": "code",
   "execution_count": 15,
   "metadata": {},
   "outputs": [],
   "source": [
    "# Task 1.2 – Regression - End"
   ]
  },
  {
   "cell_type": "code",
   "execution_count": null,
   "metadata": {},
   "outputs": [],
   "source": []
  },
  {
   "cell_type": "code",
   "execution_count": 16,
   "metadata": {},
   "outputs": [],
   "source": [
    "# Task 1.3 - Assessment of Regression - Start"
   ]
  },
  {
   "cell_type": "code",
   "execution_count": 17,
   "metadata": {},
   "outputs": [
    {
     "data": {
      "image/png": "[encoded data removed]",
      "text/plain": [
       "<Figure size 432x288 with 1 Axes>"
      ]
     },
     "metadata": {
      "needs_background": "light"
     },
     "output_type": "display_data"
    }
   ],
   "source": [
    "# Inert the Cross Validation Scores of all regressor models into Boxplot to display the MAE Rates\n",
    "data = [RandomF_CVS, MLP_CVS, SVR_CVS]\n",
    "\n",
    "# Creating plot\n",
    "plt.boxplot(data)\n",
    "  \n",
    "# Adding title \n",
    "plt.title(\"Cross Validation of MAE Rates\")\n",
    "\n",
    "plt.xticks([1, 2, 3], ['Random Forest', 'Neural Network', 'Support Vector Machine'])\n",
    "plt.xlabel('Regressor Models')\n",
    "plt.ylabel('MAE Rate')\n",
    "\n",
    "    \n",
    "# show plot\n",
    "plt.show()"
   ]
  },
  {
   "cell_type": "code",
   "execution_count": 18,
   "metadata": {},
   "outputs": [],
   "source": [
    "# Task 1.3 - Assessment of Regression - End"
   ]
  },
  {
   "cell_type": "code",
   "execution_count": null,
   "metadata": {},
   "outputs": [],
   "source": []
  },
  {
   "cell_type": "code",
   "execution_count": 19,
   "metadata": {},
   "outputs": [],
   "source": [
    "# Part 2 Evolutionary Computation\n",
    "# The fitness is the sum of the routes taken (Total distance)\n",
    "\n",
    "# Import Necessary packages for code to function\n",
    "import pandas as pandas\n",
    "import numpy as np\n",
    "import random\n",
    "\n",
    "\n",
    "# Import the distances/city files to be used in the functions and to call the functions\n",
    "\n",
    "# Change the datasets to short to view the name_short_corrected distances\n",
    "citiesData = pandas.read_csv(\"cities.txt\", header=None);\n",
    "routedata = pandas.read_csv(\"distances.csv\", header=None);"
   ]
  },
  {
   "cell_type": "code",
   "execution_count": null,
   "metadata": {},
   "outputs": [],
   "source": []
  },
  {
   "cell_type": "code",
   "execution_count": 20,
   "metadata": {},
   "outputs": [],
   "source": [
    "# Generation of random solutions -  Part 2.1 - Start\n",
    "\n",
    "# Create a randomly generated solution of cities from the city dataset\n",
    "def RandomSolutionCity(randomRoute):\n",
    "\n",
    "    citiesData = list(range(len(randomRoute)))\n",
    "    cityRoute = []\n",
    "\n",
    "    for i in range(len(randomRoute)):\n",
    "\n",
    "        randomCity = citiesData[random.randint(0, len(citiesData) - 1)]\n",
    "        cityRoute.append(randomCity)\n",
    "        citiesData.remove(randomCity)\n",
    "\n",
    "    return cityRoute\n",
    "\n",
    "\n",
    "\n",
    "# Get the total fitness distance of a salesmans route - fitness function\n",
    "def CaculateDistance(tsp, solution):\n",
    "\n",
    "    # Calculate the fitness and return it.\n",
    "    CaculateDistance=0\n",
    "    for i in range(1, len(solution)):\n",
    "\n",
    "        CaculateDistance += tsp[solution[i - 1]][solution[i]]\n",
    "\n",
    "    return CaculateDistance"
   ]
  },
  {
   "cell_type": "code",
   "execution_count": null,
   "metadata": {},
   "outputs": [],
   "source": []
  },
  {
   "cell_type": "code",
   "execution_count": 21,
   "metadata": {},
   "outputs": [
    {
     "data": {
      "text/plain": [
       "5028.2"
      ]
     },
     "execution_count": 21,
     "metadata": {},
     "output_type": "execute_result"
    }
   ],
   "source": [
    "# Test calculation with a random solution\n",
    "CaculateDistance(routedata ,RandomSolutionCity(citiesData))"
   ]
  },
  {
   "cell_type": "code",
   "execution_count": 22,
   "metadata": {},
   "outputs": [
    {
     "data": {
      "text/plain": [
       "3857.3999999999996"
      ]
     },
     "execution_count": 22,
     "metadata": {},
     "output_type": "execute_result"
    }
   ],
   "source": [
    "# Test calculation with a solution - value should be 3857.4\n",
    "# values in list need to be changed when testing the short distances and cities datasets\n",
    "\n",
    "CaculateDistance(routedata ,[5, 3, 16, 11, 14, 2, 12, 13, 1, 10, 15, 17, 6, 4, 9, 0, 18, 19, 7, 8])\n",
    "\n",
    "# Generation of random solutions - Part 2.1 - End"
   ]
  },
  {
   "cell_type": "code",
   "execution_count": null,
   "metadata": {},
   "outputs": [],
   "source": []
  },
  {
   "cell_type": "code",
   "execution_count": 23,
   "metadata": {},
   "outputs": [],
   "source": [
    "# Algorithm implementation - Part 2.2 - Start\n",
    "from matplotlib import pyplot as plt\n",
    "\n",
    "# Global variables to store the averages of the mutations iterations\n",
    "avgFitnessSwap = []\n",
    "avgFitnessRR = []"
   ]
  },
  {
   "cell_type": "code",
   "execution_count": 24,
   "metadata": {},
   "outputs": [],
   "source": [
    "# Ruin and Recreate randomly generates a new route every iteration\n",
    "def ruinAndRecreateMutation(NumOfItterations, citySolution):\n",
    "\n",
    "    # set the values to 0\n",
    "    bestCityRoute = 0\n",
    "    bestDistance = 0\n",
    "    totalDistance = 0\n",
    "\n",
    "    # create list arrays to store the iteration values\n",
    "    maxFitnessRR = []\n",
    "    minFitnessRR = []\n",
    "    \n",
    "    \n",
    "    print(\"Beginning Ruin and Recreate Mutation...\")\n",
    "    \n",
    "\n",
    "    # Loop through randomly generated route and print out the best route\n",
    "    for i in range(NumOfItterations):\n",
    "\n",
    "        # Call the fitness function with the randomly sorted cities from the city dataset\n",
    "        randomCurrentRoute = RandomSolutionCity(citySolution)\n",
    "        curDistance = CaculateDistance(routedata, RandomSolutionCity(citySolution))\n",
    "\n",
    "        # If our current best distance is larger than the newly found distance, best distance is equal to that current distance\n",
    "        if bestDistance == 0:\n",
    "            bestCityRoute = randomCurrentRoute\n",
    "            bestDistance = curDistance\n",
    "\n",
    "        if bestDistance > curDistance:\n",
    "            bestCityRoute = randomCurrentRoute.copy()\n",
    "            bestDistance = curDistance\n",
    "\n",
    "        # print out the current iteration, current fitness, and best fitness\n",
    "        print(\"Current Iteration: \", i, \" Current Route Distance: \", curDistance, \" Best Distance Overall: \", bestDistance)\n",
    "\n",
    "        # store the values from the current iteration into lists\n",
    "        maxFitnessRR.append(curDistance)\n",
    "        avgFitnessRR.append((curDistance + bestDistance) // 2)\n",
    "        minFitnessRR.append(bestDistance)\n",
    "        \n",
    "        # end of for loop\n",
    "        \n",
    "    \n",
    "        \n",
    "        \n",
    "    # Visualisation of results - Part 2.3 - Start\n",
    "    \n",
    "    # Set the plotting points for the line graphs\n",
    "    plt.title(\"Ruin & Recreate\")\n",
    "\n",
    "    plt.plot(maxFitnessRR, label='Maximum Distance')\n",
    "    plt.plot(avgFitnessRR, label='Average Distance')\n",
    "    plt.plot(minFitnessRR, label='Minimum Distance')\n",
    "    plt.legend()\n",
    "\n",
    "    plt.xlabel('Number of Iterations')\n",
    "    plt.ylabel('Distance')\n",
    "    # Part 2.3 - End\n",
    "    \n",
    "    \n",
    "        \n",
    "    print(\"The Shortest Route Is: \", bestCityRoute, \"The Total Distance Is: \", bestDistance)\n",
    "\n",
    "    return bestCityRoute"
   ]
  },
  {
   "cell_type": "code",
   "execution_count": null,
   "metadata": {},
   "outputs": [],
   "source": []
  },
  {
   "cell_type": "code",
   "execution_count": 25,
   "metadata": {},
   "outputs": [],
   "source": [
    "# Swap function takes two cities and swaps them in the route\n",
    "def swapMutation(NumOfItterations, randomCurrentRoute):\n",
    "\n",
    "    # set the values to 0\n",
    "    bestCityRoute = 0\n",
    "    bestDistance = 0\n",
    "    totalDistance = 0\n",
    "\n",
    "    # create list arrays to store the iteration values\n",
    "    maxFitnessSwap = []\n",
    "    minFitnessSwap = []\n",
    "\n",
    "    \n",
    "    # Call the fitness function with the randomly sorted cities from the city dataset\n",
    "    randomCurrentRoute = RandomSolutionCity(randomCurrentRoute)\n",
    "    idx = range(len(randomCurrentRoute))\n",
    "    \n",
    "    \n",
    "\n",
    "    print(\"Beginning Swap Mutation - Testing Current Route: \", randomCurrentRoute)\n",
    "    \n",
    "    \n",
    "\n",
    "    # Loop through randomly generated route and print out the best route\n",
    "    for i in range(NumOfItterations):\n",
    "\n",
    "        # randomise two city values in the parent route\n",
    "        i1, i2 = random.sample(idx, 2)\n",
    "        randomCurrentRoute[i1], randomCurrentRoute[i2] = randomCurrentRoute[i2], randomCurrentRoute[i1]\n",
    "\n",
    "        #Calculate the current distance\n",
    "        curDistance = CaculateDistance(routedata ,randomCurrentRoute)\n",
    "\n",
    "        # If our current best distance is larger than the newly found distance, best distance is equal to that current distance\n",
    "        if bestDistance == 0:\n",
    "            bestCityRoute = randomCurrentRoute\n",
    "            bestDistance = curDistance\n",
    "\n",
    "        if bestDistance > curDistance:\n",
    "            bestCityRoute = randomCurrentRoute.copy()\n",
    "            bestDistance = curDistance\n",
    "\n",
    "        # print out the current iteration, current fitness, and best fitness\n",
    "        print(\"Current Iteration: \", i, \" Current Route Distance: \", curDistance, \" Best Distance Overall: \", bestDistance)\n",
    "\n",
    "        # Set the swap values back to their default locations\n",
    "        randomCurrentRoute[i1], randomCurrentRoute[i2] = randomCurrentRoute[i2], randomCurrentRoute[i1]\n",
    "\n",
    "        # store the values from the current iteration into lists\n",
    "        maxFitnessSwap.append(curDistance)\n",
    "        avgFitnessSwap.append((curDistance + bestDistance) // 2)\n",
    "        minFitnessSwap.append(bestDistance)\n",
    "        \n",
    "        # end of for loop\n",
    "        \n",
    "        \n",
    "        \n",
    "    #  Visualisation of results - Part 2.3 - Start\n",
    "    \n",
    "    # Set the plotting points for the line graphs\n",
    "    \n",
    "    # Set the title of the graph\n",
    "    plt.title(\"Swapping Cities in Route\")\n",
    "    \n",
    "    # Set the plot points to the Max, Min, and Avg fitnesses\n",
    "    plt.plot(maxFitnessSwap, label='Maximum Distance')\n",
    "    plt.plot(avgFitnessSwap, label='Average Distance')\n",
    "    plt.plot(minFitnessSwap, label='Minimum Distance')\n",
    "    plt.legend()\n",
    "\n",
    "    # Name the x and y axis\n",
    "    plt.xlabel('Number of Iterations')\n",
    "    plt.ylabel('Distance')\n",
    "    # Part 2.3 - End\n",
    "    \n",
    "    \n",
    "\n",
    "    print(\"The Shortest Route Is: \", bestCityRoute, \"The Total Distance Is: \", bestDistance)\n",
    "    \n",
    "    return bestCityRoute"
   ]
  },
  {
   "cell_type": "code",
   "execution_count": null,
   "metadata": {},
   "outputs": [],
   "source": []
  },
  {
   "cell_type": "code",
   "execution_count": 26,
   "metadata": {},
   "outputs": [],
   "source": [
    "#find the best route and distance\n",
    "def getBestNeighbour(tsp, bestCityRoute):\n",
    "    bestRouteLength = CaculateDistance(tsp, bestCityRoute)\n",
    "    bestNeighbour = bestCityRoute\n",
    "    for neighbour in bestCityRoute:\n",
    "        currentRouteLength = CaculateDistance(tsp, bestCityRoute)\n",
    "        if currentRouteLength < bestRouteLength:\n",
    "            bestRouteLength = currentRouteLength\n",
    "            bestNeighbour = bestCityRoute\n",
    "    return bestNeighbour, bestRouteLength"
   ]
  },
  {
   "cell_type": "code",
   "execution_count": null,
   "metadata": {},
   "outputs": [],
   "source": []
  },
  {
   "cell_type": "code",
   "execution_count": 27,
   "metadata": {},
   "outputs": [],
   "source": [
    "#optimise the route taken from the mutations to find the lowest distance \n",
    "def hillclimber(mutation, cityDataset, tsp, itterations):\n",
    "    \n",
    "    # create a random solution to compare to our mutation function\n",
    "    currentSolution = RandomSolutionCity(cityDataset)\n",
    "    currentRouteDistance = CaculateDistance(tsp ,currentSolution)\n",
    "    neighbours = mutation\n",
    "\n",
    "    # get best value from mutation and optimise it in the while loop\n",
    "    bestNeighbour, bestNeighbourRouteLength = getBestNeighbour(tsp, neighbours)\n",
    "\n",
    "    # Get best mutation/neighbour distance and compare to current route\n",
    "    while bestNeighbourRouteLength < currentRouteDistance:\n",
    "        currentSolution = bestNeighbour\n",
    "        currentRouteDistance = bestNeighbourRouteLength\n",
    "        neighbours = mutation\n",
    "        bestNeighbour, bestNeighbourRouteLength = getBestNeighbour(tsp, neighbours)\n",
    "\n",
    "    # return the best solution and fitness\n",
    "    return currentSolution, currentRouteDistance\n",
    "              \n",
    "# Algorithm implementation - Part 2.2 - End"
   ]
  },
  {
   "cell_type": "code",
   "execution_count": null,
   "metadata": {},
   "outputs": [],
   "source": []
  },
  {
   "cell_type": "code",
   "execution_count": 28,
   "metadata": {},
   "outputs": [
    {
     "name": "stdout",
     "output_type": "stream",
     "text": [
      "Beginning Swap Mutation - Testing Current Route:  [5, 7, 10, 8, 2, 0, 3, 17, 16, 1, 11, 18, 15, 6, 19, 12, 13, 9, 14, 4]\n",
      "Current Iteration:  0  Current Route Distance:  4400.299999999999  Best Distance Overall:  4400.299999999999\n",
      "Current Iteration:  1  Current Route Distance:  4870.7  Best Distance Overall:  4400.299999999999\n",
      "Current Iteration:  2  Current Route Distance:  4830.299999999999  Best Distance Overall:  4400.299999999999\n",
      "Current Iteration:  3  Current Route Distance:  4819.499999999999  Best Distance Overall:  4400.299999999999\n",
      "Current Iteration:  4  Current Route Distance:  4979.2  Best Distance Overall:  4400.299999999999\n",
      "Current Iteration:  5  Current Route Distance:  4878.299999999999  Best Distance Overall:  4400.299999999999\n",
      "Current Iteration:  6  Current Route Distance:  5183.3  Best Distance Overall:  4400.299999999999\n",
      "Current Iteration:  7  Current Route Distance:  4656.4  Best Distance Overall:  4400.299999999999\n",
      "Current Iteration:  8  Current Route Distance:  4760.599999999999  Best Distance Overall:  4400.299999999999\n",
      "Current Iteration:  9  Current Route Distance:  4753.200000000001  Best Distance Overall:  4400.299999999999\n",
      "Current Iteration:  10  Current Route Distance:  4930.3  Best Distance Overall:  4400.299999999999\n",
      "Current Iteration:  11  Current Route Distance:  4974.3  Best Distance Overall:  4400.299999999999\n",
      "Current Iteration:  12  Current Route Distance:  4933.400000000001  Best Distance Overall:  4400.299999999999\n",
      "Current Iteration:  13  Current Route Distance:  4762.2  Best Distance Overall:  4400.299999999999\n",
      "Current Iteration:  14  Current Route Distance:  5005.2  Best Distance Overall:  4400.299999999999\n",
      "Current Iteration:  15  Current Route Distance:  5176.0  Best Distance Overall:  4400.299999999999\n",
      "Current Iteration:  16  Current Route Distance:  4952.3  Best Distance Overall:  4400.299999999999\n",
      "Current Iteration:  17  Current Route Distance:  5139.2  Best Distance Overall:  4400.299999999999\n",
      "Current Iteration:  18  Current Route Distance:  5010.3  Best Distance Overall:  4400.299999999999\n",
      "Current Iteration:  19  Current Route Distance:  4224.299999999999  Best Distance Overall:  4224.299999999999\n",
      "Current Iteration:  20  Current Route Distance:  5117.2  Best Distance Overall:  4224.299999999999\n",
      "Current Iteration:  21  Current Route Distance:  4450.799999999999  Best Distance Overall:  4224.299999999999\n",
      "Current Iteration:  22  Current Route Distance:  4570.7  Best Distance Overall:  4224.299999999999\n",
      "Current Iteration:  23  Current Route Distance:  4830.299999999999  Best Distance Overall:  4224.299999999999\n",
      "Current Iteration:  24  Current Route Distance:  4754.3  Best Distance Overall:  4224.299999999999\n",
      "Current Iteration:  25  Current Route Distance:  4830.299999999999  Best Distance Overall:  4224.299999999999\n",
      "Current Iteration:  26  Current Route Distance:  4860.3  Best Distance Overall:  4224.299999999999\n",
      "Current Iteration:  27  Current Route Distance:  4878.299999999999  Best Distance Overall:  4224.299999999999\n",
      "Current Iteration:  28  Current Route Distance:  5060.3  Best Distance Overall:  4224.299999999999\n",
      "Current Iteration:  29  Current Route Distance:  4697.6  Best Distance Overall:  4224.299999999999\n",
      "The Shortest Route Is:  [5, 3, 10, 8, 2, 0, 7, 17, 16, 1, 11, 18, 15, 6, 19, 12, 13, 9, 14, 4] The Total Distance Is:  4224.299999999999\n"
     ]
    },
    {
     "data": {
      "text/plain": [
       "([5, 3, 10, 8, 2, 0, 7, 17, 16, 1, 11, 18, 15, 6, 19, 12, 13, 9, 14, 4],\n",
       " 4224.299999999999)"
      ]
     },
     "execution_count": 28,
     "metadata": {},
     "output_type": "execute_result"
    },
    {
     "data": {
      "image/png": "[encoded data removed]",
      "text/plain": [
       "<Figure size 432x288 with 1 Axes>"
      ]
     },
     "metadata": {
      "needs_background": "light"
     },
     "output_type": "display_data"
    }
   ],
   "source": [
    "# Bug - Provides correct total distance, but return value for best distance changes (doesn't effect outcome - visual bug - only happens sometimes)\n",
    "hillclimber(swapMutation(30, citiesData), citiesData, routedata, 30)"
   ]
  },
  {
   "cell_type": "code",
   "execution_count": 29,
   "metadata": {},
   "outputs": [
    {
     "name": "stdout",
     "output_type": "stream",
     "text": [
      "Beginning Ruin and Recreate Mutation...\n",
      "Current Iteration:  0  Current Route Distance:  4629.299999999999  Best Distance Overall:  4629.299999999999\n",
      "Current Iteration:  1  Current Route Distance:  5218.2  Best Distance Overall:  4629.299999999999\n",
      "Current Iteration:  2  Current Route Distance:  5383.3  Best Distance Overall:  4629.299999999999\n",
      "Current Iteration:  3  Current Route Distance:  4936.299999999999  Best Distance Overall:  4629.299999999999\n",
      "Current Iteration:  4  Current Route Distance:  4951.6  Best Distance Overall:  4629.299999999999\n",
      "Current Iteration:  5  Current Route Distance:  4758.2  Best Distance Overall:  4629.299999999999\n",
      "Current Iteration:  6  Current Route Distance:  5003.0  Best Distance Overall:  4629.299999999999\n",
      "Current Iteration:  7  Current Route Distance:  4179.599999999999  Best Distance Overall:  4179.599999999999\n",
      "Current Iteration:  8  Current Route Distance:  5060.5  Best Distance Overall:  4179.599999999999\n",
      "Current Iteration:  9  Current Route Distance:  4577.7  Best Distance Overall:  4179.599999999999\n",
      "Current Iteration:  10  Current Route Distance:  5124.2  Best Distance Overall:  4179.599999999999\n",
      "Current Iteration:  11  Current Route Distance:  4148.4  Best Distance Overall:  4148.4\n",
      "Current Iteration:  12  Current Route Distance:  4000.9  Best Distance Overall:  4000.9\n",
      "Current Iteration:  13  Current Route Distance:  5080.3  Best Distance Overall:  4000.9\n",
      "Current Iteration:  14  Current Route Distance:  5629.4  Best Distance Overall:  4000.9\n",
      "Current Iteration:  15  Current Route Distance:  4990.4  Best Distance Overall:  4000.9\n",
      "Current Iteration:  16  Current Route Distance:  4842.099999999999  Best Distance Overall:  4000.9\n",
      "Current Iteration:  17  Current Route Distance:  5167.0  Best Distance Overall:  4000.9\n",
      "Current Iteration:  18  Current Route Distance:  5044.9  Best Distance Overall:  4000.9\n",
      "Current Iteration:  19  Current Route Distance:  5085.8  Best Distance Overall:  4000.9\n",
      "Current Iteration:  20  Current Route Distance:  4826.2  Best Distance Overall:  4000.9\n",
      "Current Iteration:  21  Current Route Distance:  4942.0  Best Distance Overall:  4000.9\n",
      "Current Iteration:  22  Current Route Distance:  4686.5  Best Distance Overall:  4000.9\n",
      "Current Iteration:  23  Current Route Distance:  4454.7  Best Distance Overall:  4000.9\n",
      "Current Iteration:  24  Current Route Distance:  4115.1  Best Distance Overall:  4000.9\n",
      "Current Iteration:  25  Current Route Distance:  5051.2  Best Distance Overall:  4000.9\n",
      "Current Iteration:  26  Current Route Distance:  4735.5  Best Distance Overall:  4000.9\n",
      "Current Iteration:  27  Current Route Distance:  4247.0  Best Distance Overall:  4000.9\n",
      "Current Iteration:  28  Current Route Distance:  5237.6  Best Distance Overall:  4000.9\n",
      "Current Iteration:  29  Current Route Distance:  4779.0  Best Distance Overall:  4000.9\n",
      "The Shortest Route Is:  [4, 17, 13, 7, 2, 3, 8, 11, 0, 16, 10, 15, 9, 6, 14, 1, 12, 18, 19, 5] The Total Distance Is:  4000.9\n"
     ]
    },
    {
     "data": {
      "text/plain": [
       "([4, 17, 13, 7, 2, 3, 8, 11, 0, 16, 10, 15, 9, 6, 14, 1, 12, 18, 19, 5],\n",
       " 4854.599999999999)"
      ]
     },
     "execution_count": 29,
     "metadata": {},
     "output_type": "execute_result"
    },
    {
     "data": {
      "image/png": "[encoded data removed]",
      "text/plain": [
       "<Figure size 432x288 with 1 Axes>"
      ]
     },
     "metadata": {
      "needs_background": "light"
     },
     "output_type": "display_data"
    }
   ],
   "source": [
    "# Bug - Provides correct total distance, but return value for best distance changes (doesn't effect outcome - visual bug - only happens sometimes)\n",
    "hillclimber(ruinAndRecreateMutation(30, citiesData), citiesData, routedata, 30)"
   ]
  },
  {
   "cell_type": "code",
   "execution_count": 30,
   "metadata": {
    "scrolled": true
   },
   "outputs": [
    {
     "data": {
      "text/plain": [
       "Text(0, 0.5, 'Distance')"
      ]
     },
     "execution_count": 30,
     "metadata": {},
     "output_type": "execute_result"
    },
    {
     "data": {
      "image/png": "[encoded data removed]",
      "text/plain": [
       "<Figure size 432x288 with 1 Axes>"
      ]
     },
     "metadata": {
      "needs_background": "light"
     },
     "output_type": "display_data"
    }
   ],
   "source": [
    "# Visualisation of results - Part 2.3 - Start\n",
    "\n",
    "# Set the plotting points for the line graphs\n",
    "\n",
    "# Set the title of the graph\n",
    "plt.title(\"Comparison of Mutation Averages\")\n",
    "\n",
    "# set the plot points to the avg of the Ruin & Recreate/Swap Mutations\n",
    "plt.plot(avgFitnessRR, label='Average Ruin & Recreate Distance')\n",
    "plt.plot(avgFitnessSwap, label='Average Swap Distance')\n",
    "plt.legend()\n",
    "\n",
    "# Name the x and y axis\n",
    "plt.xlabel('Number of Iterations')\n",
    "plt.ylabel('Distance')"
   ]
  },
  {
   "cell_type": "code",
   "execution_count": 31,
   "metadata": {},
   "outputs": [],
   "source": [
    "# Above we can see the comparison between the two mutations (Ruin and Recreate & Swap). After running the Hillclimber Algorithm\n",
    "# multiple times, I am noticing that the best mutation operator appears to be the Ruin and Recreate.\n",
    "# It reaches a much better fitness than the Swap Mutator, but the swap does have a more consistency \n",
    "# due to it not being randomised, the radomisation allows us to have a higher chance a receiving a lower value as it is\n",
    "# ever changing, while the swap will take the same route and only change two values from it.\n",
    "# Meaning the value may change between only a few hundred, while the randomiser could alter between thousand or more\n",
    "\n",
    "# Visualisation of results - Part 2.3 - End"
   ]
  },
  {
   "cell_type": "code",
   "execution_count": null,
   "metadata": {},
   "outputs": [],
   "source": []
  }
 ],
 "metadata": {
  "kernelspec": {
   "display_name": "Python 3",
   "language": "python",
   "name": "python3"
  },
  "language_info": {
   "codemirror_mode": {
    "name": "ipython",
    "version": 3
   },
   "file_extension": ".py",
   "mimetype": "text/x-python",
   "name": "python",
   "nbconvert_exporter": "python",
   "pygments_lexer": "ipython3",
   "version": "3.7.0"
  }
 },
 "nbformat": 4,
 "nbformat_minor": 4
}
