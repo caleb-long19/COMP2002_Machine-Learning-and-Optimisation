{
 "cells": [
  {
   "cell_type": "markdown",
   "metadata": {},
   "source": [
    "# COMP2002 - Machine Learning and Optimisation Assignment\n",
    "This template can be used for the weekly coding exercises, and for your coursework."
   ]
  },
  {
   "cell_type": "code",
   "execution_count": 1,
   "metadata": {},
   "outputs": [],
   "source": [
    "# Import packages used in the Python Program\n",
    "import pandas as pandas\n",
    "import matplotlib.pyplot as plt\n",
    "import numpy as np\n",
    "\n",
    "from sklearn.preprocessing import MinMaxScaler\n",
    "from sklearn.ensemble import RandomForestRegressor \n",
    "from sklearn.neural_network import MLPRegressor \n",
    "from sklearn.svm import SVR \n",
    "from sklearn.metrics import mean_absolute_error\n",
    "from sklearn import preprocessing\n",
    "from sklearn.model_selection import cross_val_score\n",
    "from sklearn.model_selection import train_test_split"
   ]
  },
  {
   "cell_type": "code",
   "execution_count": null,
   "metadata": {},
   "outputs": [],
   "source": []
  },
  {
   "cell_type": "code",
   "execution_count": 2,
   "metadata": {},
   "outputs": [],
   "source": [
    "# Import datasets and Train with AlgerianFF Region 1 and Test with Algerian Region 2"
   ]
  },
  {
   "cell_type": "code",
   "execution_count": 3,
   "metadata": {},
   "outputs": [],
   "source": [
    "AffRegion1Dataset = pandas.read_csv(\"AlgerianFF_Region1.csv\")\n",
    "AffRegion2Dataset = pandas.read_csv(\"AlgerianFF_Region2.csv\")"
   ]
  },
  {
   "cell_type": "code",
   "execution_count": 4,
   "metadata": {},
   "outputs": [
    {
     "data": {
      "text/html": [
       "<div>\n",
       "<style scoped>\n",
       "    .dataframe tbody tr th:only-of-type {\n",
       "        vertical-align: middle;\n",
       "    }\n",
       "\n",
       "    .dataframe tbody tr th {\n",
       "        vertical-align: top;\n",
       "    }\n",
       "\n",
       "    .dataframe thead th {\n",
       "        text-align: right;\n",
       "    }\n",
       "</style>\n",
       "<table border=\"1\" class=\"dataframe\">\n",
       "  <thead>\n",
       "    <tr style=\"text-align: right;\">\n",
       "      <th></th>\n",
       "      <th>day</th>\n",
       "      <th>month</th>\n",
       "      <th>year</th>\n",
       "      <th>Temperature</th>\n",
       "      <th>RH</th>\n",
       "      <th>Ws</th>\n",
       "      <th>Rain</th>\n",
       "      <th>FFMC</th>\n",
       "      <th>DMC</th>\n",
       "      <th>DC</th>\n",
       "      <th>ISI</th>\n",
       "      <th>BUI</th>\n",
       "      <th>FWI</th>\n",
       "    </tr>\n",
       "  </thead>\n",
       "  <tbody>\n",
       "    <tr>\n",
       "      <th>0</th>\n",
       "      <td>1</td>\n",
       "      <td>6</td>\n",
       "      <td>2012</td>\n",
       "      <td>29</td>\n",
       "      <td>57</td>\n",
       "      <td>18</td>\n",
       "      <td>0.0</td>\n",
       "      <td>65.7</td>\n",
       "      <td>3.4</td>\n",
       "      <td>7.6</td>\n",
       "      <td>1.3</td>\n",
       "      <td>3.4</td>\n",
       "      <td>0.5</td>\n",
       "    </tr>\n",
       "    <tr>\n",
       "      <th>1</th>\n",
       "      <td>2</td>\n",
       "      <td>6</td>\n",
       "      <td>2012</td>\n",
       "      <td>29</td>\n",
       "      <td>61</td>\n",
       "      <td>13</td>\n",
       "      <td>1.3</td>\n",
       "      <td>64.4</td>\n",
       "      <td>4.1</td>\n",
       "      <td>7.6</td>\n",
       "      <td>1.0</td>\n",
       "      <td>3.9</td>\n",
       "      <td>0.4</td>\n",
       "    </tr>\n",
       "    <tr>\n",
       "      <th>2</th>\n",
       "      <td>3</td>\n",
       "      <td>6</td>\n",
       "      <td>2012</td>\n",
       "      <td>26</td>\n",
       "      <td>82</td>\n",
       "      <td>22</td>\n",
       "      <td>13.1</td>\n",
       "      <td>47.1</td>\n",
       "      <td>2.5</td>\n",
       "      <td>7.1</td>\n",
       "      <td>0.3</td>\n",
       "      <td>2.7</td>\n",
       "      <td>0.1</td>\n",
       "    </tr>\n",
       "    <tr>\n",
       "      <th>3</th>\n",
       "      <td>4</td>\n",
       "      <td>6</td>\n",
       "      <td>2012</td>\n",
       "      <td>25</td>\n",
       "      <td>89</td>\n",
       "      <td>13</td>\n",
       "      <td>2.5</td>\n",
       "      <td>28.6</td>\n",
       "      <td>1.3</td>\n",
       "      <td>6.9</td>\n",
       "      <td>0.0</td>\n",
       "      <td>1.7</td>\n",
       "      <td>0.0</td>\n",
       "    </tr>\n",
       "    <tr>\n",
       "      <th>4</th>\n",
       "      <td>5</td>\n",
       "      <td>6</td>\n",
       "      <td>2012</td>\n",
       "      <td>27</td>\n",
       "      <td>77</td>\n",
       "      <td>16</td>\n",
       "      <td>0.0</td>\n",
       "      <td>64.8</td>\n",
       "      <td>3.0</td>\n",
       "      <td>14.2</td>\n",
       "      <td>1.2</td>\n",
       "      <td>3.9</td>\n",
       "      <td>0.5</td>\n",
       "    </tr>\n",
       "    <tr>\n",
       "      <th>...</th>\n",
       "      <td>...</td>\n",
       "      <td>...</td>\n",
       "      <td>...</td>\n",
       "      <td>...</td>\n",
       "      <td>...</td>\n",
       "      <td>...</td>\n",
       "      <td>...</td>\n",
       "      <td>...</td>\n",
       "      <td>...</td>\n",
       "      <td>...</td>\n",
       "      <td>...</td>\n",
       "      <td>...</td>\n",
       "      <td>...</td>\n",
       "    </tr>\n",
       "    <tr>\n",
       "      <th>117</th>\n",
       "      <td>26</td>\n",
       "      <td>9</td>\n",
       "      <td>2012</td>\n",
       "      <td>31</td>\n",
       "      <td>54</td>\n",
       "      <td>11</td>\n",
       "      <td>0.0</td>\n",
       "      <td>82.0</td>\n",
       "      <td>6.0</td>\n",
       "      <td>16.3</td>\n",
       "      <td>2.5</td>\n",
       "      <td>6.2</td>\n",
       "      <td>1.7</td>\n",
       "    </tr>\n",
       "    <tr>\n",
       "      <th>118</th>\n",
       "      <td>27</td>\n",
       "      <td>9</td>\n",
       "      <td>2012</td>\n",
       "      <td>31</td>\n",
       "      <td>66</td>\n",
       "      <td>11</td>\n",
       "      <td>0.0</td>\n",
       "      <td>85.7</td>\n",
       "      <td>8.3</td>\n",
       "      <td>24.9</td>\n",
       "      <td>4.0</td>\n",
       "      <td>9.0</td>\n",
       "      <td>4.1</td>\n",
       "    </tr>\n",
       "    <tr>\n",
       "      <th>119</th>\n",
       "      <td>28</td>\n",
       "      <td>9</td>\n",
       "      <td>2012</td>\n",
       "      <td>32</td>\n",
       "      <td>47</td>\n",
       "      <td>14</td>\n",
       "      <td>0.7</td>\n",
       "      <td>77.5</td>\n",
       "      <td>7.1</td>\n",
       "      <td>8.8</td>\n",
       "      <td>1.8</td>\n",
       "      <td>6.8</td>\n",
       "      <td>0.9</td>\n",
       "    </tr>\n",
       "    <tr>\n",
       "      <th>120</th>\n",
       "      <td>29</td>\n",
       "      <td>9</td>\n",
       "      <td>2012</td>\n",
       "      <td>26</td>\n",
       "      <td>80</td>\n",
       "      <td>16</td>\n",
       "      <td>1.8</td>\n",
       "      <td>47.4</td>\n",
       "      <td>2.9</td>\n",
       "      <td>7.7</td>\n",
       "      <td>0.3</td>\n",
       "      <td>3.0</td>\n",
       "      <td>0.1</td>\n",
       "    </tr>\n",
       "    <tr>\n",
       "      <th>121</th>\n",
       "      <td>30</td>\n",
       "      <td>9</td>\n",
       "      <td>2012</td>\n",
       "      <td>25</td>\n",
       "      <td>78</td>\n",
       "      <td>14</td>\n",
       "      <td>1.4</td>\n",
       "      <td>45.0</td>\n",
       "      <td>1.9</td>\n",
       "      <td>7.5</td>\n",
       "      <td>0.2</td>\n",
       "      <td>2.4</td>\n",
       "      <td>0.1</td>\n",
       "    </tr>\n",
       "  </tbody>\n",
       "</table>\n",
       "<p>122 rows × 13 columns</p>\n",
       "</div>"
      ],
      "text/plain": [
       "     day  month  year  Temperature   RH   Ws  Rain   FFMC  DMC    DC  ISI  \\\n",
       "0      1      6  2012           29   57   18    0.0  65.7  3.4   7.6  1.3   \n",
       "1      2      6  2012           29   61   13    1.3  64.4  4.1   7.6  1.0   \n",
       "2      3      6  2012           26   82   22   13.1  47.1  2.5   7.1  0.3   \n",
       "3      4      6  2012           25   89   13    2.5  28.6  1.3   6.9  0.0   \n",
       "4      5      6  2012           27   77   16    0.0  64.8  3.0  14.2  1.2   \n",
       "..   ...    ...   ...          ...  ...  ...    ...   ...  ...   ...  ...   \n",
       "117   26      9  2012           31   54   11    0.0  82.0  6.0  16.3  2.5   \n",
       "118   27      9  2012           31   66   11    0.0  85.7  8.3  24.9  4.0   \n",
       "119   28      9  2012           32   47   14    0.7  77.5  7.1   8.8  1.8   \n",
       "120   29      9  2012           26   80   16    1.8  47.4  2.9   7.7  0.3   \n",
       "121   30      9  2012           25   78   14    1.4  45.0  1.9   7.5  0.2   \n",
       "\n",
       "     BUI  FWI  \n",
       "0    3.4  0.5  \n",
       "1    3.9  0.4  \n",
       "2    2.7  0.1  \n",
       "3    1.7  0.0  \n",
       "4    3.9  0.5  \n",
       "..   ...  ...  \n",
       "117  6.2  1.7  \n",
       "118  9.0  4.1  \n",
       "119  6.8  0.9  \n",
       "120  3.0  0.1  \n",
       "121  2.4  0.1  \n",
       "\n",
       "[122 rows x 13 columns]"
      ]
     },
     "execution_count": 4,
     "metadata": {},
     "output_type": "execute_result"
    }
   ],
   "source": [
    "AffRegion1Dataset"
   ]
  },
  {
   "cell_type": "code",
   "execution_count": 5,
   "metadata": {},
   "outputs": [
    {
     "data": {
      "text/html": [
       "<div>\n",
       "<style scoped>\n",
       "    .dataframe tbody tr th:only-of-type {\n",
       "        vertical-align: middle;\n",
       "    }\n",
       "\n",
       "    .dataframe tbody tr th {\n",
       "        vertical-align: top;\n",
       "    }\n",
       "\n",
       "    .dataframe thead th {\n",
       "        text-align: right;\n",
       "    }\n",
       "</style>\n",
       "<table border=\"1\" class=\"dataframe\">\n",
       "  <thead>\n",
       "    <tr style=\"text-align: right;\">\n",
       "      <th></th>\n",
       "      <th>day</th>\n",
       "      <th>month</th>\n",
       "      <th>year</th>\n",
       "      <th>Temperature</th>\n",
       "      <th>RH</th>\n",
       "      <th>Ws</th>\n",
       "      <th>Rain</th>\n",
       "      <th>FFMC</th>\n",
       "      <th>DMC</th>\n",
       "      <th>DC</th>\n",
       "      <th>ISI</th>\n",
       "      <th>BUI</th>\n",
       "      <th>FWI</th>\n",
       "    </tr>\n",
       "  </thead>\n",
       "  <tbody>\n",
       "    <tr>\n",
       "      <th>0</th>\n",
       "      <td>1</td>\n",
       "      <td>6</td>\n",
       "      <td>2012</td>\n",
       "      <td>32</td>\n",
       "      <td>71</td>\n",
       "      <td>12</td>\n",
       "      <td>0.7</td>\n",
       "      <td>57.1</td>\n",
       "      <td>2.5</td>\n",
       "      <td>8.2</td>\n",
       "      <td>0.6</td>\n",
       "      <td>2.8</td>\n",
       "      <td>0.2</td>\n",
       "    </tr>\n",
       "    <tr>\n",
       "      <th>1</th>\n",
       "      <td>2</td>\n",
       "      <td>6</td>\n",
       "      <td>2012</td>\n",
       "      <td>30</td>\n",
       "      <td>73</td>\n",
       "      <td>13</td>\n",
       "      <td>4.0</td>\n",
       "      <td>55.7</td>\n",
       "      <td>2.7</td>\n",
       "      <td>7.8</td>\n",
       "      <td>0.6</td>\n",
       "      <td>2.9</td>\n",
       "      <td>0.2</td>\n",
       "    </tr>\n",
       "    <tr>\n",
       "      <th>2</th>\n",
       "      <td>3</td>\n",
       "      <td>6</td>\n",
       "      <td>2012</td>\n",
       "      <td>29</td>\n",
       "      <td>80</td>\n",
       "      <td>14</td>\n",
       "      <td>2.0</td>\n",
       "      <td>48.7</td>\n",
       "      <td>2.2</td>\n",
       "      <td>7.6</td>\n",
       "      <td>0.3</td>\n",
       "      <td>2.6</td>\n",
       "      <td>0.1</td>\n",
       "    </tr>\n",
       "    <tr>\n",
       "      <th>3</th>\n",
       "      <td>4</td>\n",
       "      <td>6</td>\n",
       "      <td>2012</td>\n",
       "      <td>30</td>\n",
       "      <td>64</td>\n",
       "      <td>14</td>\n",
       "      <td>0.0</td>\n",
       "      <td>79.4</td>\n",
       "      <td>5.2</td>\n",
       "      <td>15.4</td>\n",
       "      <td>2.2</td>\n",
       "      <td>5.6</td>\n",
       "      <td>1.0</td>\n",
       "    </tr>\n",
       "    <tr>\n",
       "      <th>4</th>\n",
       "      <td>5</td>\n",
       "      <td>6</td>\n",
       "      <td>2012</td>\n",
       "      <td>32</td>\n",
       "      <td>60</td>\n",
       "      <td>14</td>\n",
       "      <td>0.2</td>\n",
       "      <td>77.1</td>\n",
       "      <td>6.0</td>\n",
       "      <td>17.6</td>\n",
       "      <td>1.8</td>\n",
       "      <td>6.5</td>\n",
       "      <td>0.9</td>\n",
       "    </tr>\n",
       "    <tr>\n",
       "      <th>...</th>\n",
       "      <td>...</td>\n",
       "      <td>...</td>\n",
       "      <td>...</td>\n",
       "      <td>...</td>\n",
       "      <td>...</td>\n",
       "      <td>...</td>\n",
       "      <td>...</td>\n",
       "      <td>...</td>\n",
       "      <td>...</td>\n",
       "      <td>...</td>\n",
       "      <td>...</td>\n",
       "      <td>...</td>\n",
       "      <td>...</td>\n",
       "    </tr>\n",
       "    <tr>\n",
       "      <th>117</th>\n",
       "      <td>26</td>\n",
       "      <td>9</td>\n",
       "      <td>2012</td>\n",
       "      <td>30</td>\n",
       "      <td>65</td>\n",
       "      <td>14</td>\n",
       "      <td>0.0</td>\n",
       "      <td>85.4</td>\n",
       "      <td>16.0</td>\n",
       "      <td>44.5</td>\n",
       "      <td>4.5</td>\n",
       "      <td>16.9</td>\n",
       "      <td>6.5</td>\n",
       "    </tr>\n",
       "    <tr>\n",
       "      <th>118</th>\n",
       "      <td>27</td>\n",
       "      <td>9</td>\n",
       "      <td>2012</td>\n",
       "      <td>28</td>\n",
       "      <td>87</td>\n",
       "      <td>15</td>\n",
       "      <td>4.4</td>\n",
       "      <td>41.1</td>\n",
       "      <td>6.5</td>\n",
       "      <td>8.0</td>\n",
       "      <td>0.1</td>\n",
       "      <td>6.2</td>\n",
       "      <td>0.0</td>\n",
       "    </tr>\n",
       "    <tr>\n",
       "      <th>119</th>\n",
       "      <td>28</td>\n",
       "      <td>9</td>\n",
       "      <td>2012</td>\n",
       "      <td>27</td>\n",
       "      <td>87</td>\n",
       "      <td>29</td>\n",
       "      <td>0.5</td>\n",
       "      <td>45.9</td>\n",
       "      <td>3.5</td>\n",
       "      <td>7.9</td>\n",
       "      <td>0.4</td>\n",
       "      <td>3.4</td>\n",
       "      <td>0.2</td>\n",
       "    </tr>\n",
       "    <tr>\n",
       "      <th>120</th>\n",
       "      <td>29</td>\n",
       "      <td>9</td>\n",
       "      <td>2012</td>\n",
       "      <td>24</td>\n",
       "      <td>54</td>\n",
       "      <td>18</td>\n",
       "      <td>0.1</td>\n",
       "      <td>79.7</td>\n",
       "      <td>4.3</td>\n",
       "      <td>15.2</td>\n",
       "      <td>1.7</td>\n",
       "      <td>5.1</td>\n",
       "      <td>0.7</td>\n",
       "    </tr>\n",
       "    <tr>\n",
       "      <th>121</th>\n",
       "      <td>30</td>\n",
       "      <td>9</td>\n",
       "      <td>2012</td>\n",
       "      <td>24</td>\n",
       "      <td>64</td>\n",
       "      <td>15</td>\n",
       "      <td>0.2</td>\n",
       "      <td>67.3</td>\n",
       "      <td>3.8</td>\n",
       "      <td>16.5</td>\n",
       "      <td>1.2</td>\n",
       "      <td>4.8</td>\n",
       "      <td>0.5</td>\n",
       "    </tr>\n",
       "  </tbody>\n",
       "</table>\n",
       "<p>122 rows × 13 columns</p>\n",
       "</div>"
      ],
      "text/plain": [
       "     day  month  year  Temperature   RH   Ws  Rain   FFMC   DMC    DC  ISI  \\\n",
       "0      1      6  2012           32   71   12    0.7  57.1   2.5   8.2  0.6   \n",
       "1      2      6  2012           30   73   13    4.0  55.7   2.7   7.8  0.6   \n",
       "2      3      6  2012           29   80   14    2.0  48.7   2.2   7.6  0.3   \n",
       "3      4      6  2012           30   64   14    0.0  79.4   5.2  15.4  2.2   \n",
       "4      5      6  2012           32   60   14    0.2  77.1   6.0  17.6  1.8   \n",
       "..   ...    ...   ...          ...  ...  ...    ...   ...   ...   ...  ...   \n",
       "117   26      9  2012           30   65   14    0.0  85.4  16.0  44.5  4.5   \n",
       "118   27      9  2012           28   87   15    4.4  41.1   6.5   8.0  0.1   \n",
       "119   28      9  2012           27   87   29    0.5  45.9   3.5   7.9  0.4   \n",
       "120   29      9  2012           24   54   18    0.1  79.7   4.3  15.2  1.7   \n",
       "121   30      9  2012           24   64   15    0.2  67.3   3.8  16.5  1.2   \n",
       "\n",
       "      BUI  FWI  \n",
       "0     2.8  0.2  \n",
       "1     2.9  0.2  \n",
       "2     2.6  0.1  \n",
       "3     5.6  1.0  \n",
       "4     6.5  0.9  \n",
       "..    ...  ...  \n",
       "117  16.9  6.5  \n",
       "118   6.2  0.0  \n",
       "119   3.4  0.2  \n",
       "120   5.1  0.7  \n",
       "121   4.8  0.5  \n",
       "\n",
       "[122 rows x 13 columns]"
      ]
     },
     "execution_count": 5,
     "metadata": {},
     "output_type": "execute_result"
    }
   ],
   "source": [
    "AffRegion2Dataset"
   ]
  },
  {
   "cell_type": "code",
   "execution_count": 6,
   "metadata": {},
   "outputs": [],
   "source": [
    "# Retrieve and seperate inputs/targets from datasets"
   ]
  },
  {
   "cell_type": "code",
   "execution_count": 7,
   "metadata": {},
   "outputs": [],
   "source": [
    "inputs_DatasetRegion1 = AffRegion1Dataset[['day', 'month', 'year', 'Temperature', ' RH', ' Ws', 'Rain ', 'FFMC',\n",
    "       'DMC', 'DC', 'ISI', 'BUI']]"
   ]
  },
  {
   "cell_type": "code",
   "execution_count": 8,
   "metadata": {},
   "outputs": [],
   "source": [
    "targets_DatasetRegion1 = AffRegion1Dataset[['FWI']]"
   ]
  },
  {
   "cell_type": "code",
   "execution_count": null,
   "metadata": {},
   "outputs": [],
   "source": []
  },
  {
   "cell_type": "code",
   "execution_count": 9,
   "metadata": {},
   "outputs": [],
   "source": [
    "inputs_testRegion2 = AffRegion2Dataset[['day', 'month', 'year', 'Temperature', ' RH', ' Ws', 'Rain ', 'FFMC',\n",
    "       'DMC', 'DC', 'ISI', 'BUI']]"
   ]
  },
  {
   "cell_type": "code",
   "execution_count": 10,
   "metadata": {},
   "outputs": [],
   "source": [
    "targets_testData = AffRegion2Dataset[['FWI']]"
   ]
  },
  {
   "cell_type": "code",
   "execution_count": null,
   "metadata": {},
   "outputs": [],
   "source": []
  },
  {
   "cell_type": "code",
   "execution_count": 11,
   "metadata": {},
   "outputs": [],
   "source": [
    "# Normalisze the data set inputs"
   ]
  },
  {
   "cell_type": "code",
   "execution_count": 12,
   "metadata": {},
   "outputs": [],
   "source": [
    "scaler = MinMaxScaler()\n",
    "trainingData = scaler.fit_transform(inputs_DatasetRegion1)\n",
    "testingData = scaler.fit_transform(inputs_testRegion2)"
   ]
  },
  {
   "cell_type": "code",
   "execution_count": null,
   "metadata": {},
   "outputs": [],
   "source": []
  },
  {
   "cell_type": "code",
   "execution_count": 13,
   "metadata": {},
   "outputs": [],
   "source": [
    "# Beginning of Regression Methods"
   ]
  },
  {
   "cell_type": "code",
   "execution_count": 14,
   "metadata": {},
   "outputs": [],
   "source": [
    "# Random Forest Regression Method"
   ]
  },
  {
   "cell_type": "code",
   "execution_count": 15,
   "metadata": {},
   "outputs": [
    {
     "data": {
      "text/plain": [
       "RandomForestRegressor()"
      ]
     },
     "execution_count": 15,
     "metadata": {},
     "output_type": "execute_result"
    }
   ],
   "source": [
    "RandomF_Regressor = RandomForestRegressor()\n",
    "RandomF_Regressor.fit(trainingData, targets_DatasetRegion1.values.ravel())"
   ]
  },
  {
   "cell_type": "code",
   "execution_count": 16,
   "metadata": {},
   "outputs": [
    {
     "name": "stdout",
     "output_type": "stream",
     "text": [
      "2.9701557377049164\n"
     ]
    }
   ],
   "source": [
    "RandonF_outputs = RandomF_Regressor.predict(testingData)\n",
    "RandonForest_MAE = (mean_absolute_error(targets_testData, RandonF_outputs))\n",
    "print(RandonForest_MAE)"
   ]
  },
  {
   "cell_type": "code",
   "execution_count": null,
   "metadata": {},
   "outputs": [],
   "source": []
  },
  {
   "cell_type": "code",
   "execution_count": 17,
   "metadata": {},
   "outputs": [],
   "source": [
    "# Cross Validation Score for Random Forest"
   ]
  },
  {
   "cell_type": "code",
   "execution_count": 18,
   "metadata": {},
   "outputs": [],
   "source": [
    "RandomF_CVS = cross_val_score(RandomF_Regressor, testingData, targets_testData.values.ravel() , cv=3)"
   ]
  },
  {
   "cell_type": "code",
   "execution_count": null,
   "metadata": {},
   "outputs": [],
   "source": []
  },
  {
   "cell_type": "code",
   "execution_count": 19,
   "metadata": {},
   "outputs": [],
   "source": [
    "# Random MLP Regressor Method"
   ]
  },
  {
   "cell_type": "code",
   "execution_count": 20,
   "metadata": {},
   "outputs": [],
   "source": [
    "MLP_Regressor = MLPRegressor()"
   ]
  },
  {
   "cell_type": "code",
   "execution_count": 21,
   "metadata": {},
   "outputs": [
    {
     "data": {
      "text/plain": [
       "MLPRegressor()"
      ]
     },
     "execution_count": 21,
     "metadata": {},
     "output_type": "execute_result"
    }
   ],
   "source": [
    "MLP_Regressor.fit(trainingData, targets_DatasetRegion1.values.ravel()) #2000 iterations"
   ]
  },
  {
   "cell_type": "code",
   "execution_count": 22,
   "metadata": {},
   "outputs": [],
   "source": [
    "MLP_Outputs = MLP_Regressor.predict(testingData)"
   ]
  },
  {
   "cell_type": "code",
   "execution_count": 23,
   "metadata": {},
   "outputs": [],
   "source": [
    "MLP_MAE = (mean_absolute_error(targets_testData, MLP_Outputs))"
   ]
  },
  {
   "cell_type": "code",
   "execution_count": 24,
   "metadata": {},
   "outputs": [
    {
     "name": "stdout",
     "output_type": "stream",
     "text": [
      "2.6443429725242384\n"
     ]
    }
   ],
   "source": [
    "print(MLP_MAE)"
   ]
  },
  {
   "cell_type": "code",
   "execution_count": null,
   "metadata": {},
   "outputs": [],
   "source": []
  },
  {
   "cell_type": "code",
   "execution_count": 25,
   "metadata": {},
   "outputs": [],
   "source": [
    "# Cross Validation Score for Neural Network"
   ]
  },
  {
   "cell_type": "code",
   "execution_count": 26,
   "metadata": {},
   "outputs": [],
   "source": [
    "MLP_CVS = cross_val_score(MLP_Regressor, testingData, targets_testData.values.ravel(), cv=3)"
   ]
  },
  {
   "cell_type": "code",
   "execution_count": null,
   "metadata": {},
   "outputs": [],
   "source": []
  },
  {
   "cell_type": "code",
   "execution_count": 27,
   "metadata": {},
   "outputs": [],
   "source": [
    "# Random Support Vector Machine Method"
   ]
  },
  {
   "cell_type": "code",
   "execution_count": 28,
   "metadata": {},
   "outputs": [],
   "source": [
    "SVR_Regressor = SVR()"
   ]
  },
  {
   "cell_type": "code",
   "execution_count": 29,
   "metadata": {},
   "outputs": [
    {
     "data": {
      "text/plain": [
       "SVR()"
      ]
     },
     "execution_count": 29,
     "metadata": {},
     "output_type": "execute_result"
    }
   ],
   "source": [
    "SVR_Regressor.fit(trainingData, targets_DatasetRegion1.values.ravel())"
   ]
  },
  {
   "cell_type": "code",
   "execution_count": 30,
   "metadata": {},
   "outputs": [],
   "source": [
    "SVR_Outputs = SVR_Regressor.predict(testingData)"
   ]
  },
  {
   "cell_type": "code",
   "execution_count": 31,
   "metadata": {},
   "outputs": [],
   "source": [
    "SVR_MAE = (mean_absolute_error(targets_testData, SVR_Outputs))"
   ]
  },
  {
   "cell_type": "code",
   "execution_count": 32,
   "metadata": {},
   "outputs": [
    {
     "name": "stdout",
     "output_type": "stream",
     "text": [
      "3.265285328447862\n"
     ]
    }
   ],
   "source": [
    "print(SVR_MAE)"
   ]
  },
  {
   "cell_type": "code",
   "execution_count": null,
   "metadata": {},
   "outputs": [],
   "source": []
  },
  {
   "cell_type": "code",
   "execution_count": 33,
   "metadata": {},
   "outputs": [],
   "source": [
    "# Cross Validation Score for Support Vector Machine"
   ]
  },
  {
   "cell_type": "code",
   "execution_count": 34,
   "metadata": {},
   "outputs": [],
   "source": [
    "SVR_CVS = cross_val_score(SVR_Regressor, testingData, targets_testData.values.ravel() , cv=3)"
   ]
  },
  {
   "cell_type": "code",
   "execution_count": null,
   "metadata": {},
   "outputs": [],
   "source": []
  },
  {
   "cell_type": "code",
   "execution_count": 35,
   "metadata": {},
   "outputs": [],
   "source": [
    "# Assessment of Regression - Boxplot and Cross Validation Scores"
   ]
  },
  {
   "cell_type": "code",
   "execution_count": 36,
   "metadata": {},
   "outputs": [],
   "source": [
    "# Inert the Cross Validation Scores of all regressor models into Boxplot to display the MAE Rates"
   ]
  },
  {
   "cell_type": "code",
   "execution_count": 37,
   "metadata": {},
   "outputs": [],
   "source": [
    "data = [RandomF_CVS, MLP_CVS, SVR_CVS]"
   ]
  },
  {
   "cell_type": "code",
   "execution_count": 38,
   "metadata": {},
   "outputs": [
    {
     "data": {
      "image/png": "[encoded data removed]",
      "text/plain": [
       "<Figure size 432x288 with 1 Axes>"
      ]
     },
     "metadata": {
      "needs_background": "light"
     },
     "output_type": "display_data"
    }
   ],
   "source": [
    "# Creating plot\n",
    "plt.boxplot(data)\n",
    "  \n",
    "# Adding title \n",
    "plt.title(\"Cross Validation of MAE Rates\")\n",
    "\n",
    "plt.xticks([1, 2, 3], ['Random Forest', 'Neural Network', 'Support Vector Machine'])\n",
    "plt.xlabel('Regressor Models')\n",
    "plt.ylabel('MAE Rate')\n",
    "\n",
    "    \n",
    "# show plot\n",
    "plt.show()"
   ]
  },
  {
   "cell_type": "code",
   "execution_count": null,
   "metadata": {},
   "outputs": [],
   "source": []
  },
  {
   "cell_type": "code",
   "execution_count": null,
   "metadata": {},
   "outputs": [],
   "source": []
  },
  {
   "cell_type": "code",
   "execution_count": 70,
   "metadata": {},
   "outputs": [],
   "source": [
    "# Part 2 Evolutionary Computation\n",
    "# The fitness is the sum of the routes taken (Total distance)\n",
    "\n",
    "# Import Necessary packages for code to function\n",
    "import pandas as pandas\n",
    "import numpy as np\n",
    "import random\n",
    "\n",
    "\n",
    "# Import the distances/city files to be used in the functions and to call the functions\n",
    "\n",
    "\n",
    "# Change the datasets to short to view the name_short_corrected distances\n",
    "citiesData = pandas.read_csv(\"cities.txt\", header=None);\n",
    "routedata = pandas.read_csv(\"distances.csv\", header=None);"
   ]
  },
  {
   "cell_type": "code",
   "execution_count": 71,
   "metadata": {},
   "outputs": [],
   "source": [
    "# Part 2.1 - Start\n",
    "# Create a randomly generated solution of cities from the city dataset\n",
    "def RandomSolutionCity(randomRoute):\n",
    "\n",
    "    citiesData = list(range(len(randomRoute)))\n",
    "    cityRoute = []\n",
    "\n",
    "    for i in range(len(randomRoute)):\n",
    "\n",
    "        randomCity = citiesData[random.randint(0, len(citiesData) - 1)]\n",
    "        cityRoute.append(randomCity)\n",
    "        citiesData.remove(randomCity)\n",
    "\n",
    "    return cityRoute\n",
    "\n",
    "\n",
    "\n",
    "# Get the total fitness distance of a salesmans route - fitness function\n",
    "def CaculateDistance(tsp, solution):\n",
    "\n",
    "    # Calculate the fitness and return it.\n",
    "    CaculateDistance=0\n",
    "    for i in range(1, len(solution)):\n",
    "\n",
    "        CaculateDistance += tsp[solution[i - 1]][solution[i]]\n",
    "\n",
    "    return CaculateDistance\n",
    "# Part 2.1 - End"
   ]
  },
  {
   "cell_type": "code",
   "execution_count": 72,
   "metadata": {},
   "outputs": [
    {
     "data": {
      "text/plain": [
       "4545.0"
      ]
     },
     "execution_count": 72,
     "metadata": {},
     "output_type": "execute_result"
    }
   ],
   "source": [
    "# Test calculation with a random solution\n",
    "CaculateDistance(routedata ,RandomSolutionCity(citiesData))"
   ]
  },
  {
   "cell_type": "code",
   "execution_count": 73,
   "metadata": {},
   "outputs": [
    {
     "data": {
      "text/plain": [
       "3857.3999999999996"
      ]
     },
     "execution_count": 73,
     "metadata": {},
     "output_type": "execute_result"
    }
   ],
   "source": [
    "# Test calculation with a solution - value should be 3857.4\n",
    "CaculateDistance(routedata ,[5, 3, 16, 11, 14, 2, 12, 13, 1, 10, 15, 17, 6, 4, 9, 0, 18, 19, 7, 8])"
   ]
  },
  {
   "cell_type": "code",
   "execution_count": null,
   "metadata": {},
   "outputs": [],
   "source": []
  },
  {
   "cell_type": "code",
   "execution_count": 74,
   "metadata": {},
   "outputs": [],
   "source": [
    "# Part 2.2 - Start\n",
    "\n",
    "avgFitnessSwap = []\n",
    "avgFitnessRR = []\n",
    "\n",
    "# Ruin and Recreate randomly generates a new route every iteration\n",
    "def ruinAndRecreateMutation(NumOfItterations, citySolution):\n",
    "\n",
    "    bestCityRoute = 0\n",
    "    bestDistance = 0\n",
    "    totalDistance = 0\n",
    "\n",
    "    maxFitnessRR = []\n",
    "    minFitnessRR = []\n",
    "\n",
    "    print(\"Beginning Ruin and Recreate Mutation...\")\n",
    "\n",
    "    # Loop through randomly generated route and print out the best route\n",
    "    for i in range(NumOfItterations):\n",
    "\n",
    "        # Call the fitness function with the randomly sorted cities from the city dataset\n",
    "        randomCurrentRoute = RandomSolutionCity(citySolution)\n",
    "        curDistance = CaculateDistance(routedata, RandomSolutionCity(citySolution))\n",
    "\n",
    "        if bestDistance == 0:\n",
    "            bestCityRoute = randomCurrentRoute\n",
    "            bestDistance = curDistance\n",
    "\n",
    "        if bestDistance > curDistance:\n",
    "            bestCityRoute = randomCurrentRoute.copy()\n",
    "            bestDistance = curDistance\n",
    "\n",
    "        print(\"Current Iteration: \", i, \" Current Route Distance: \", curDistance, \" Best Distance Overall: \", bestDistance)\n",
    "\n",
    "        maxFitnessRR.append(curDistance)\n",
    "        avgFitnessRR.append((curDistance + bestDistance) // 2)\n",
    "        minFitnessRR.append(bestDistance)\n",
    "        \n",
    "    # Part 2.3 - Start\n",
    "    # Set the plotting points for the line graphs\n",
    "    plt.title(\"Ruin & Recreate\")\n",
    "\n",
    "    plt.plot(maxFitnessRR, label='Maximum Distance')\n",
    "    plt.plot(avgFitnessRR, label='Average Distance')\n",
    "    plt.plot(minFitnessRR, label='Minimum Distance')\n",
    "    plt.legend()\n",
    "\n",
    "    plt.xlabel('Number of Iterations')\n",
    "    plt.ylabel('Distance')\n",
    "    # Part 2.3 - End\n",
    "        \n",
    "    print(\"The Shortest Route Is: \", bestCityRoute, \"The Total Distance Is: \", bestDistance)\n",
    "\n",
    "    return bestCityRoute"
   ]
  },
  {
   "cell_type": "code",
   "execution_count": 75,
   "metadata": {},
   "outputs": [],
   "source": [
    "# Swap function takes two cities and swaps them in the route\n",
    "def swapMutation(NumOfItterations, randomCurrentRoute):\n",
    "\n",
    "    from matplotlib import pyplot as plt\n",
    "\n",
    "    bestCityRoute = 0\n",
    "    bestDistance = 0\n",
    "    totalDistance = 0\n",
    "\n",
    "    maxFitnessSwap = []\n",
    "    minFitnessSwap = []\n",
    "\n",
    "    # We need to take the generated route (Parent City Route)\n",
    "    # Every loop we need to take the parent route and swap two cities randomly\n",
    "\n",
    "    # Call the fitness function with the randomly sorted cities from the city dataset\n",
    "    randomCurrentRoute = RandomSolutionCity(randomCurrentRoute)\n",
    "    idx = range(len(randomCurrentRoute))\n",
    "\n",
    "    print(\"Beginning Swap Mutation - Testing Current Route: \", randomCurrentRoute)\n",
    "\n",
    "    # Loop through randomly generated route and print out the best route\n",
    "    for i in range(NumOfItterations):\n",
    "\n",
    "        # randomise two city values in the parent route\n",
    "        i1, i2 = random.sample(idx, 2)\n",
    "        randomCurrentRoute[i1], randomCurrentRoute[i2] = randomCurrentRoute[i2], randomCurrentRoute[i1]\n",
    "\n",
    "        #Calculate the current distance\n",
    "        curDistance = CaculateDistance(routedata ,randomCurrentRoute)\n",
    "\n",
    "        if bestDistance == 0:\n",
    "            bestCityRoute = randomCurrentRoute\n",
    "            bestDistance = curDistance\n",
    "\n",
    "        if bestDistance > curDistance:\n",
    "            bestCityRoute = randomCurrentRoute.copy()\n",
    "            bestDistance = curDistance\n",
    "\n",
    "        print(\"Current Iteration: \", i, \" Current Route Distance: \", curDistance, \" Best Distance Overall: \", bestDistance)\n",
    "\n",
    "        randomCurrentRoute[i1], randomCurrentRoute[i2] = randomCurrentRoute[i2], randomCurrentRoute[i1]\n",
    "\n",
    "        maxFitnessSwap.append(curDistance)\n",
    "        avgFitnessSwap.append((curDistance + bestDistance) // 2)\n",
    "        minFitnessSwap.append(bestDistance)\n",
    "        \n",
    "    # Part 2.3 - Start\n",
    "    # Set the plotting points for the line graphs\n",
    "    plt.title(\"Swapping Cities in Route\")\n",
    "    plt.plot(maxFitnessSwap, label='Maximum Distance')\n",
    "    plt.plot(avgFitnessSwap, label='Average Distance')\n",
    "    plt.plot(minFitnessSwap, label='Minimum Distance')\n",
    "    plt.legend()\n",
    "\n",
    "    plt.xlabel('Number of Iterations')\n",
    "    plt.ylabel('Distance')\n",
    "    # Part 2.3 - End\n",
    "\n",
    "    print(\"The Shortest Route Is: \", bestCityRoute, \"The Total Distance Is: \", bestDistance)\n",
    "\n",
    "    return bestCityRoute\n"
   ]
  },
  {
   "cell_type": "code",
   "execution_count": 76,
   "metadata": {},
   "outputs": [],
   "source": [
    "#find the best route distance and route\n",
    "def getBestNeighbour(tsp, bestCityRoute):\n",
    "    bestRouteLength = CaculateDistance(tsp, bestCityRoute)\n",
    "    bestNeighbour = bestCityRoute\n",
    "    for neighbour in bestCityRoute:\n",
    "        currentRouteLength = CaculateDistance(tsp, bestCityRoute)\n",
    "        if currentRouteLength < bestRouteLength:\n",
    "            bestRouteLength = currentRouteLength\n",
    "            bestNeighbour = bestCityRoute\n",
    "    return bestNeighbour, bestRouteLength\n"
   ]
  },
  {
   "cell_type": "code",
   "execution_count": 77,
   "metadata": {},
   "outputs": [],
   "source": [
    "#optimise the route taken from the mutations to find the lowest distance \n",
    "def hillclimber(mutation, cityDataset, tsp, itterations):\n",
    "    \n",
    "    for i in range(itterations):\n",
    "        currentRoute = RandomSolutionCity(cityDataset)\n",
    "        currentRouteDistance = CaculateDistance(tsp ,currentRoute)\n",
    "        neighbours = mutation\n",
    "\n",
    "        # get best value from mutation and optimise it in the while loop\n",
    "        bestNeighbour, bestNeighbourRouteLength = getBestNeighbour(tsp, neighbours)\n",
    "\n",
    "        # Get best mutation/neighbour distance and compare to current route\n",
    "        while bestNeighbourRouteLength < currentRouteDistance:\n",
    "            currentRoute = bestNeighbour\n",
    "            currentRouteDistance = bestNeighbourRouteLength\n",
    "            neighbours = mutation\n",
    "            bestNeighbour, bestNeighbourRouteLength = getBestNeighbour(tsp, neighbours)\n",
    "\n",
    "        return currentRoute, currentRouteDistance\n",
    "              \n",
    "# Part 2.2 - End"
   ]
  },
  {
   "cell_type": "code",
   "execution_count": 78,
   "metadata": {},
   "outputs": [
    {
     "name": "stdout",
     "output_type": "stream",
     "text": [
      "Beginning Swap Mutation - Testing Current Route:  [15, 1, 9, 4, 16, 5, 10, 2, 14, 0, 6, 18, 12, 11, 3, 17, 8, 19, 13, 7]\n",
      "Current Iteration:  0  Current Route Distance:  5570.700000000001  Best Distance Overall:  5570.700000000001\n",
      "Current Iteration:  1  Current Route Distance:  5580.1  Best Distance Overall:  5570.700000000001\n",
      "Current Iteration:  2  Current Route Distance:  5528.6  Best Distance Overall:  5528.6\n",
      "Current Iteration:  3  Current Route Distance:  5580.700000000001  Best Distance Overall:  5528.6\n",
      "Current Iteration:  4  Current Route Distance:  5694.1  Best Distance Overall:  5528.6\n",
      "Current Iteration:  5  Current Route Distance:  5656.0  Best Distance Overall:  5528.6\n",
      "Current Iteration:  6  Current Route Distance:  5887.1  Best Distance Overall:  5528.6\n",
      "Current Iteration:  7  Current Route Distance:  5588.3  Best Distance Overall:  5528.6\n",
      "Current Iteration:  8  Current Route Distance:  5713.499999999999  Best Distance Overall:  5528.6\n",
      "Current Iteration:  9  Current Route Distance:  5507.6  Best Distance Overall:  5507.6\n",
      "Current Iteration:  10  Current Route Distance:  5619.700000000001  Best Distance Overall:  5507.6\n",
      "Current Iteration:  11  Current Route Distance:  5871.700000000001  Best Distance Overall:  5507.6\n",
      "Current Iteration:  12  Current Route Distance:  4779.1  Best Distance Overall:  4779.1\n",
      "Current Iteration:  13  Current Route Distance:  5565.1  Best Distance Overall:  4779.1\n",
      "Current Iteration:  14  Current Route Distance:  5375.700000000001  Best Distance Overall:  4779.1\n",
      "Current Iteration:  15  Current Route Distance:  5529.700000000001  Best Distance Overall:  4779.1\n",
      "Current Iteration:  16  Current Route Distance:  4779.1  Best Distance Overall:  4779.1\n",
      "Current Iteration:  17  Current Route Distance:  4722.6  Best Distance Overall:  4722.6\n",
      "Current Iteration:  18  Current Route Distance:  5612.1  Best Distance Overall:  4722.6\n",
      "Current Iteration:  19  Current Route Distance:  5631.400000000001  Best Distance Overall:  4722.6\n",
      "Current Iteration:  20  Current Route Distance:  5608.700000000001  Best Distance Overall:  4722.6\n",
      "Current Iteration:  21  Current Route Distance:  5492.700000000001  Best Distance Overall:  4722.6\n",
      "Current Iteration:  22  Current Route Distance:  5493.6  Best Distance Overall:  4722.6\n",
      "Current Iteration:  23  Current Route Distance:  5622.1  Best Distance Overall:  4722.6\n",
      "Current Iteration:  24  Current Route Distance:  5538.8  Best Distance Overall:  4722.6\n",
      "Current Iteration:  25  Current Route Distance:  5232.700000000001  Best Distance Overall:  4722.6\n",
      "Current Iteration:  26  Current Route Distance:  5448.6  Best Distance Overall:  4722.6\n",
      "Current Iteration:  27  Current Route Distance:  5448.6  Best Distance Overall:  4722.6\n",
      "Current Iteration:  28  Current Route Distance:  5488.700000000001  Best Distance Overall:  4722.6\n",
      "Current Iteration:  29  Current Route Distance:  5701.6  Best Distance Overall:  4722.6\n",
      "The Shortest Route Is:  [15, 1, 9, 4, 16, 5, 3, 2, 14, 0, 6, 18, 12, 11, 10, 17, 8, 19, 13, 7] The Total Distance Is:  4722.6\n"
     ]
    },
    {
     "data": {
      "text/plain": [
       "([15, 1, 9, 4, 16, 5, 3, 2, 14, 0, 6, 18, 12, 11, 10, 17, 8, 19, 13, 7],\n",
       " 4722.6)"
      ]
     },
     "execution_count": 78,
     "metadata": {},
     "output_type": "execute_result"
    },
    {
     "data": {
      "image/png": "[encoded data removed]",
      "text/plain": [
       "<Figure size 432x288 with 1 Axes>"
      ]
     },
     "metadata": {
      "needs_background": "light"
     },
     "output_type": "display_data"
    }
   ],
   "source": [
    "hillclimber(swapMutation(30, citiesData), citiesData, routedata, 30)"
   ]
  },
  {
   "cell_type": "code",
   "execution_count": 79,
   "metadata": {},
   "outputs": [
    {
     "name": "stdout",
     "output_type": "stream",
     "text": [
      "Beginning Ruin and Recreate Mutation...\n",
      "Current Iteration:  0  Current Route Distance:  4943.1  Best Distance Overall:  4943.1\n",
      "Current Iteration:  1  Current Route Distance:  5268.1  Best Distance Overall:  4943.1\n",
      "Current Iteration:  2  Current Route Distance:  4702.799999999999  Best Distance Overall:  4702.799999999999\n",
      "Current Iteration:  3  Current Route Distance:  5557.6  Best Distance Overall:  4702.799999999999\n",
      "Current Iteration:  4  Current Route Distance:  5146.0  Best Distance Overall:  4702.799999999999\n",
      "Current Iteration:  5  Current Route Distance:  4219.299999999999  Best Distance Overall:  4219.299999999999\n",
      "Current Iteration:  6  Current Route Distance:  4411.5  Best Distance Overall:  4219.299999999999\n",
      "Current Iteration:  7  Current Route Distance:  4870.5  Best Distance Overall:  4219.299999999999\n",
      "Current Iteration:  8  Current Route Distance:  4507.1  Best Distance Overall:  4219.299999999999\n",
      "Current Iteration:  9  Current Route Distance:  4828.5  Best Distance Overall:  4219.299999999999\n",
      "Current Iteration:  10  Current Route Distance:  4406.1  Best Distance Overall:  4219.299999999999\n",
      "Current Iteration:  11  Current Route Distance:  4901.8  Best Distance Overall:  4219.299999999999\n",
      "Current Iteration:  12  Current Route Distance:  4722.4  Best Distance Overall:  4219.299999999999\n",
      "Current Iteration:  13  Current Route Distance:  4677.1  Best Distance Overall:  4219.299999999999\n",
      "Current Iteration:  14  Current Route Distance:  5239.1  Best Distance Overall:  4219.299999999999\n",
      "Current Iteration:  15  Current Route Distance:  4934.5  Best Distance Overall:  4219.299999999999\n",
      "Current Iteration:  16  Current Route Distance:  4865.7  Best Distance Overall:  4219.299999999999\n",
      "Current Iteration:  17  Current Route Distance:  4868.4  Best Distance Overall:  4219.299999999999\n",
      "Current Iteration:  18  Current Route Distance:  5099.2  Best Distance Overall:  4219.299999999999\n",
      "Current Iteration:  19  Current Route Distance:  4887.0  Best Distance Overall:  4219.299999999999\n",
      "Current Iteration:  20  Current Route Distance:  4758.0  Best Distance Overall:  4219.299999999999\n",
      "Current Iteration:  21  Current Route Distance:  4918.9  Best Distance Overall:  4219.299999999999\n",
      "Current Iteration:  22  Current Route Distance:  5708.999999999999  Best Distance Overall:  4219.299999999999\n",
      "Current Iteration:  23  Current Route Distance:  4927.9  Best Distance Overall:  4219.299999999999\n",
      "Current Iteration:  24  Current Route Distance:  4315.5  Best Distance Overall:  4219.299999999999\n",
      "Current Iteration:  25  Current Route Distance:  5564.599999999999  Best Distance Overall:  4219.299999999999\n",
      "Current Iteration:  26  Current Route Distance:  5158.0  Best Distance Overall:  4219.299999999999\n",
      "Current Iteration:  27  Current Route Distance:  5498.4  Best Distance Overall:  4219.299999999999\n",
      "Current Iteration:  28  Current Route Distance:  4229.1  Best Distance Overall:  4219.299999999999\n",
      "Current Iteration:  29  Current Route Distance:  4541.0  Best Distance Overall:  4219.299999999999\n",
      "The Shortest Route Is:  [1, 17, 19, 5, 6, 15, 4, 14, 8, 18, 3, 9, 13, 7, 10, 16, 0, 11, 2, 12] The Total Distance Is:  4219.299999999999\n"
     ]
    },
    {
     "data": {
      "text/plain": [
       "([1, 17, 19, 5, 6, 15, 4, 14, 8, 18, 3, 9, 13, 7, 10, 16, 0, 11, 2, 12],\n",
       " 4543.5)"
      ]
     },
     "execution_count": 79,
     "metadata": {},
     "output_type": "execute_result"
    },
    {
     "data": {
      "image/png": "[encoded data removed]",
      "text/plain": [
       "<Figure size 432x288 with 1 Axes>"
      ]
     },
     "metadata": {
      "needs_background": "light"
     },
     "output_type": "display_data"
    }
   ],
   "source": [
    "# Bug - Provides correct total distance, but return value for best distance changes (doesn't effect outcome - visual bug)\n",
    "hillclimber(ruinAndRecreateMutation(30, citiesData), citiesData, routedata, 30)"
   ]
  },
  {
   "cell_type": "code",
   "execution_count": 80,
   "metadata": {
    "scrolled": true
   },
   "outputs": [
    {
     "data": {
      "text/plain": [
       "Text(0, 0.5, 'Distance')"
      ]
     },
     "execution_count": 80,
     "metadata": {},
     "output_type": "execute_result"
    },
    {
     "data": {
      "image/png": "[encoded data removed]",
      "text/plain": [
       "<Figure size 432x288 with 1 Axes>"
      ]
     },
     "metadata": {
      "needs_background": "light"
     },
     "output_type": "display_data"
    }
   ],
   "source": [
    "# Part 2.3 - Start\n",
    "# Set the plotting points for the line graphs\n",
    "plt.title(\"Comparison of Mutation Averages\")\n",
    "plt.plot(avgFitnessRR, label='Average Ruin & Recreate Distance')\n",
    "plt.plot(avgFitnessSwap, label='Average Swap Distance')\n",
    "plt.legend()\n",
    "\n",
    "plt.xlabel('Number of Iterations')\n",
    "plt.ylabel('Distance')\n",
    "# Part 2.3 - End"
   ]
  },
  {
   "cell_type": "code",
   "execution_count": 81,
   "metadata": {},
   "outputs": [],
   "source": [
    "# Above we can see the comparison between the two mutations (Ruin and Recreate & Swap). After running the Hillclimber Algorithm\n",
    "# multiple times, I am noticing that the best mutation operator appears to be the Ruin and Recreate.\n",
    "# It reaches a much better fitness than the Swap Mutator, but the swap does have a more consistency \n",
    "# due to it not being randomised, the radomisation allows us to have a higher chance a receiving a lower value as it is\n",
    "# ever changing, while the swap will take the same route and only change two values from it.\n",
    "# Meaning the value may change between only a few hundred, while the randomiser could alter between thousand or more"
   ]
  },
  {
   "cell_type": "code",
   "execution_count": null,
   "metadata": {},
   "outputs": [],
   "source": []
  }
 ],
 "metadata": {
  "kernelspec": {
   "display_name": "Python 3",
   "language": "python",
   "name": "python3"
  },
  "language_info": {
   "codemirror_mode": {
    "name": "ipython",
    "version": 3
   },
   "file_extension": ".py",
   "mimetype": "text/x-python",
   "name": "python",
   "nbconvert_exporter": "python",
   "pygments_lexer": "ipython3",
   "version": "3.7.0"
  }
 },
 "nbformat": 4,
 "nbformat_minor": 4
}
